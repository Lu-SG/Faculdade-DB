{
 "cells": [
  {
   "cell_type": "code",
   "execution_count": 73,
   "id": "20f73e5a-8166-432b-b33b-11469d0e3596",
   "metadata": {},
   "outputs": [],
   "source": [
    "import pandas as pd\n",
    "df = pd.read_csv('carros.csv')\n",
    "df1 = db.groupby('Ano_Modelo')['Peso'].mean()\n",
    "df1.to_excel('teste.xlsx')"
   ]
  },
  {
   "cell_type": "code",
   "execution_count": 71,
   "id": "df3aed02-7d86-4c42-a28c-14cfc5e2291a",
   "metadata": {},
   "outputs": [],
   "source": [
    "df2 = db\n",
    "df2['Potencia'] = pd.to_numeric(df2['Potencia'], errors='coerce').fillna(0).astype(int)\n",
    "(df2.groupby('Ano_Modelo')['Potencia'].mean()).to_excel('teste1.xlsx')\n",
    "#df2.to_excel('teste01.xlsx')"
   ]
  },
  {
   "cell_type": "code",
   "execution_count": 78,
   "id": "5b0c8a3f-d177-4030-b98e-7c7782e1e731",
   "metadata": {},
   "outputs": [
    {
     "ename": "SyntaxError",
     "evalue": "cannot assign to subscript here. Maybe you meant '==' instead of '='? (2033741535.py, line 2)",
     "output_type": "error",
     "traceback": [
      "\u001b[0;36m  Cell \u001b[0;32mIn[78], line 2\u001b[0;36m\u001b[0m\n\u001b[0;31m    df['Media_Potencia'] = (df['Potencia'] = pd.to_numeric(df['Potencia'], errors='coerce').fillna(0).astype(int)).mean\u001b[0m\n\u001b[0m                            ^\u001b[0m\n\u001b[0;31mSyntaxError\u001b[0m\u001b[0;31m:\u001b[0m cannot assign to subscript here. Maybe you meant '==' instead of '='?\n"
     ]
    }
   ],
   "source": [
    "df = pd.read_csv('carros.csv')\n",
    "\n"
   ]
  },
  {
   "cell_type": "code",
   "execution_count": null,
   "id": "60331b1e-2886-4503-9b52-fe20f89ebc4c",
   "metadata": {},
   "outputs": [],
   "source": []
  }
 ],
 "metadata": {
  "kernelspec": {
   "display_name": "Python 3 (ipykernel)",
   "language": "python",
   "name": "python3"
  },
  "language_info": {
   "codemirror_mode": {
    "name": "ipython",
    "version": 3
   },
   "file_extension": ".py",
   "mimetype": "text/x-python",
   "name": "python",
   "nbconvert_exporter": "python",
   "pygments_lexer": "ipython3",
   "version": "3.11.5"
  }
 },
 "nbformat": 4,
 "nbformat_minor": 5
}
