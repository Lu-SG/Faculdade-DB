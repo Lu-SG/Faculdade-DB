{
 "cells": [
  {
   "cell_type": "markdown",
   "id": "823cad20-e8b0-469a-a2e9-ff1c437c0b6d",
   "metadata": {},
   "source": [
    "# Fórmula de Bhaskara"
   ]
  },
  {
   "cell_type": "markdown",
   "id": "5b420b40-d6d5-4de2-86d4-88651111e2a4",
   "metadata": {},
   "source": [
    "A fórmula de Bhaskara é um método resolutivo para equações do segundo grau utilizado para encontrar raízes a partir dos coeficientes da equação."
   ]
  },
  {
   "cell_type": "markdown",
   "id": "96e3686b-8c62-4ddc-b18b-e4a53436c9e1",
   "metadata": {},
   "source": [
    "## A fórmula de Bhaskara é definida por:"
   ]
  },
  {
   "cell_type": "markdown",
   "id": "bcb0124a-3226-4c6a-bf08-9cbcb16f45a1",
   "metadata": {},
   "source": [
    "\\begin{equation*}\n",
    "-b \\pm \\sqrt{b^2 - 4ac} \\over 2a\n",
    "\\end{equation*}"
   ]
  },
  {
   "cell_type": "markdown",
   "id": "86bf10fb-9fe9-48f1-a349-0abe29aa046b",
   "metadata": {},
   "source": [
    "[Lista dos Simbolos/Fórmulas Matemáticos para Markdown](https://en.wikipedia.org/wiki/List_of_mathematical_symbols_by_subject)."
   ]
  },
  {
   "cell_type": "code",
   "execution_count": 38,
   "id": "f8728754-e96c-4dbd-810f-3bbc50c88dd6",
   "metadata": {},
   "outputs": [],
   "source": [
    "# construa uma função de receba os valores de \"a\", \"b\" e \"c\" e retorne as raízes se as mesmas existirem  "
   ]
  },
  {
   "cell_type": "code",
   "execution_count": null,
   "id": "4ea9cb5e-0bcb-4340-904f-0d8aaeafd91f",
   "metadata": {},
   "outputs": [],
   "source": []
  }
 ],
 "metadata": {
  "kernelspec": {
   "display_name": "Python 3 (ipykernel)",
   "language": "python",
   "name": "python3"
  },
  "language_info": {
   "codemirror_mode": {
    "name": "ipython",
    "version": 3
   },
   "file_extension": ".py",
   "mimetype": "text/x-python",
   "name": "python",
   "nbconvert_exporter": "python",
   "pygments_lexer": "ipython3",
   "version": "3.11.4"
  }
 },
 "nbformat": 4,
 "nbformat_minor": 5
}
