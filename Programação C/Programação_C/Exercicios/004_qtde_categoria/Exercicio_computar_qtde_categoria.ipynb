{
 "cells": [
  {
   "cell_type": "markdown",
   "id": "40e0ede1-ec28-4748-90e7-d0a296f53728",
   "metadata": {},
   "source": [
    "# Exercício\n",
    "\n",
    "Utilizando o arquivo alunos_categoria.xlsx gerado nas atividades anteriores.\n",
    "\n",
    "Computar as quantidades totais em cada categoria, conforme as classificações relacionada abaixo:\n",
    "\n",
    "- Abaixo de 18,5: Abaixo do peso\n",
    "- 18,5 a 24,9: Peso saudável\n",
    "- 25,0 a 29,9: Sobrepeso\n",
    "- 30,0 a 34,9: Obesidade grau I\n",
    "- 35,0 a 39,9: Obesidade grau II\n",
    "- 40,0 ou mais: Obesidade grau III (obesidade mórbida)\n",
    "\n",
    "Criar tb um novo arquivo chamado totais_categorias.xlsx\n",
    "\n",
    "Código .ipynb deve ser enviado ao email - marcelo.euzebio.batista@gmail.com até dia 16/9/2023 às 23:59\n",
    "\n",
    "Atenção >>>> em caso de código repetido ou com nível de semelhança acima de 90%, todos os códigos envolvidos receberão nota ZERO.\n",
    "\n",
    "Mãos a obra meu programador!"
   ]
  },
  {
   "cell_type": "code",
   "execution_count": 3,
   "id": "59bbebe7-3613-4583-97d1-2a5fdbf1e5a7",
   "metadata": {},
   "outputs": [
    {
     "name": "stdout",
     "output_type": "stream",
     "text": [
      "0     23.233456\n",
      "1     24.074074\n",
      "2     24.221453\n",
      "3     24.691358\n",
      "4     24.857955\n",
      "5     24.725183\n",
      "6     22.959088\n",
      "7     23.875115\n",
      "8     22.600263\n",
      "9     48.979592\n",
      "10    22.189349\n",
      "11    23.244595\n",
      "12    24.158818\n",
      "13    26.892323\n",
      "14    23.781213\n",
      "15    22.656250\n",
      "16    22.939751\n",
      "17    62.882876\n",
      "18    23.124670\n",
      "19    23.665244\n",
      "20    24.167162\n",
      "21    22.222222\n",
      "22    23.423557\n",
      "23    23.833005\n",
      "24    30.818540\n",
      "25    24.005487\n",
      "26    24.964946\n",
      "27    78.423684\n",
      "28    24.535124\n",
      "Name: IMC, dtype: float64\n"
     ]
    }
   ],
   "source": [
    "import pandas as pd\n",
    "dados = pd.read_excel('alunos_new.xlsx')\n",
    "\n",
    "\n"
   ]
  },
  {
   "cell_type": "code",
   "execution_count": null,
   "id": "20e82abe-ebd3-43a4-9b76-98cd8b50bcf8",
   "metadata": {},
   "outputs": [],
   "source": []
  }
 ],
 "metadata": {
  "kernelspec": {
   "display_name": "Python 3 (ipykernel)",
   "language": "python",
   "name": "python3"
  },
  "language_info": {
   "codemirror_mode": {
    "name": "ipython",
    "version": 3
   },
   "file_extension": ".py",
   "mimetype": "text/x-python",
   "name": "python",
   "nbconvert_exporter": "python",
   "pygments_lexer": "ipython3",
   "version": "3.11.5"
  }
 },
 "nbformat": 4,
 "nbformat_minor": 5
}
