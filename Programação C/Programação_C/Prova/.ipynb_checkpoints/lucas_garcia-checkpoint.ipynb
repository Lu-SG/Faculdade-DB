{
 "cells": [
  {
   "cell_type": "code",
   "execution_count": 51,
   "id": "75b81d9a-1524-4574-9eff-103896a7f253",
   "metadata": {},
   "outputs": [],
   "source": [
    "import pandas as pd\n",
    "import numpy as np \n"
   ]
  },
  {
   "cell_type": "code",
   "execution_count": 75,
   "id": "d555dfdf-5563-4f1a-9b05-0d4635f06755",
   "metadata": {},
   "outputs": [
    {
     "data": {
      "text/plain": [
       "fabricante\n",
       "Q    10.000000\n",
       "P    13.222222\n",
       "G    14.727273\n",
       "K    15.130435\n",
       "A    16.000000\n",
       "N    16.000000\n",
       "R    17.625000\n",
       "Name: carboidratos , dtype: float64"
      ]
     },
     "execution_count": 75,
     "metadata": {},
     "output_type": "execute_result"
    }
   ],
   "source": [
    "## 1 - Construir uma listagem e gravar em .xlsx dos fabricantes\n",
    "## classificados crescentemente pelo valor médio de carboidratos em seus produtos,\n",
    "## com o nome [carboidratos_crescente.xlsx]\n",
    "\n",
    "df = pd.read_csv('cereais.csv')\n",
    "df2 = df.groupby(['fabricante'])['carboidratos '].mean()\n",
    "df3 = df2.sort_values(ascending=True)\n",
    "df3\n",
    "#df3.to_excel('resultado.xlsx')"
   ]
  },
  {
   "cell_type": "code",
   "execution_count": 57,
   "id": "8230d621-ad91-4bc6-95dc-8e948de61e4c",
   "metadata": {},
   "outputs": [
    {
     "data": {
      "text/plain": [
       "fabricante\n",
       "A    4.000000\n",
       "N    2.833333\n",
       "K    2.652174\n",
       "Q    2.625000\n",
       "R    2.500000\n",
       "P    2.444444\n",
       "G    2.318182\n",
       "Name: proteinas, dtype: float64"
      ]
     },
     "execution_count": 57,
     "metadata": {},
     "output_type": "execute_result"
    }
   ],
   "source": [
    "## 2 - Construir uma listagem e gravar em .xlsx dos fabricantes, classificando-os decrescentemente pelo valor das proteínas em média, \n",
    "## com o tipo = C, ou seja, consumo frio, em seus produtos, com o nome [proteinas_decrescente.xlsx]\n",
    "df2 = df.groupby(['fabricante'])['proteinas'].mean()\n",
    "df2.sort_values(ascending=False)\n",
    "#df2.to_excel('proteinas_decrescente.xlsx')\n"
   ]
  },
  {
   "cell_type": "code",
   "execution_count": 56,
   "id": "27ef1511-2701-4766-8d9a-174d18cba69e",
   "metadata": {},
   "outputs": [
    {
     "data": {
      "text/plain": [
       "fabricante\n",
       "G    26.343756\n",
       "K    25.826267\n",
       "Q    13.363062\n",
       "N    12.909944\n",
       "P     0.000000\n",
       "R     0.000000\n",
       "A          NaN\n",
       "Name: vitaminas, dtype: float64"
      ]
     },
     "execution_count": 56,
     "metadata": {},
     "output_type": "execute_result"
    }
   ],
   "source": [
    "## 3 - Construir uma listagem e gravar em .xlsx dos fabricantes,\n",
    "## classificando do valor maior ao menor desvio padrão encontrado de Vitaminas em seus produtos, \n",
    "## com o nome [vitaminas_desvio_padrao.xlsx]\n",
    "df2 = df.groupby(['fabricante'])['vitaminas'].std()\n",
    "df2.sort_values(ascending=False)\n",
    "#df2.to_excel('vitaminas_desvio_padrao.xlsx')"
   ]
  },
  {
   "cell_type": "code",
   "execution_count": 74,
   "id": "cfca7fd6-74e6-4e0e-ba7b-6834dedbcf5d",
   "metadata": {},
   "outputs": [
    {
     "data": {
      "text/html": [
       "<div>\n",
       "<style scoped>\n",
       "    .dataframe tbody tr th:only-of-type {\n",
       "        vertical-align: middle;\n",
       "    }\n",
       "\n",
       "    .dataframe tbody tr th {\n",
       "        vertical-align: top;\n",
       "    }\n",
       "\n",
       "    .dataframe thead th {\n",
       "        text-align: right;\n",
       "    }\n",
       "</style>\n",
       "<table border=\"1\" class=\"dataframe\">\n",
       "  <thead>\n",
       "    <tr style=\"text-align: right;\">\n",
       "      <th></th>\n",
       "      <th>Minimo</th>\n",
       "      <th>Maximo</th>\n",
       "      <th>Desvio_padrao</th>\n",
       "    </tr>\n",
       "    <tr>\n",
       "      <th>fabricante</th>\n",
       "      <th></th>\n",
       "      <th></th>\n",
       "      <th></th>\n",
       "    </tr>\n",
       "  </thead>\n",
       "  <tbody>\n",
       "    <tr>\n",
       "      <th>A</th>\n",
       "      <td>95</td>\n",
       "      <td>95</td>\n",
       "      <td>NaN</td>\n",
       "    </tr>\n",
       "    <tr>\n",
       "      <th>G</th>\n",
       "      <td>25</td>\n",
       "      <td>230</td>\n",
       "      <td>45.682060</td>\n",
       "    </tr>\n",
       "    <tr>\n",
       "      <th>K</th>\n",
       "      <td>20</td>\n",
       "      <td>330</td>\n",
       "      <td>91.982448</td>\n",
       "    </tr>\n",
       "    <tr>\n",
       "      <th>N</th>\n",
       "      <td>-1</td>\n",
       "      <td>280</td>\n",
       "      <td>91.829552</td>\n",
       "    </tr>\n",
       "    <tr>\n",
       "      <th>P</th>\n",
       "      <td>25</td>\n",
       "      <td>260</td>\n",
       "      <td>83.470720</td>\n",
       "    </tr>\n",
       "    <tr>\n",
       "      <th>Q</th>\n",
       "      <td>15</td>\n",
       "      <td>135</td>\n",
       "      <td>43.378525</td>\n",
       "    </tr>\n",
       "    <tr>\n",
       "      <th>R</th>\n",
       "      <td>-1</td>\n",
       "      <td>170</td>\n",
       "      <td>66.387929</td>\n",
       "    </tr>\n",
       "  </tbody>\n",
       "</table>\n",
       "</div>"
      ],
      "text/plain": [
       "            Minimo  Maximo  Desvio_padrao\n",
       "fabricante                               \n",
       "A               95      95            NaN\n",
       "G               25     230      45.682060\n",
       "K               20     330      91.982448\n",
       "N               -1     280      91.829552\n",
       "P               25     260      83.470720\n",
       "Q               15     135      43.378525\n",
       "R               -1     170      66.387929"
      ]
     },
     "execution_count": 74,
     "metadata": {},
     "output_type": "execute_result"
    }
   ],
   "source": [
    "## 4 - Construa um relatório e grave em .xlsx dos fabricantes referente aos seus produtos, \n",
    "## onde possa ser verificado os valores mínimos, máximos, média e desvio padrão do potássio, \n",
    "## com o nome [analise_potassio.xlsx]\n",
    "df2 = df.groupby(\n",
    "        ['fabricante']\n",
    ").agg(\n",
    "        Minimo = ('potassio', 'min'),\n",
    "        Maximo = ('potassio', 'max'),\n",
    "        Desvio_padrao = ('potassio', 'std')\n",
    ")\n",
    "df2\n",
    "#df2.to_excel('analise_potassio.xlsx')\n"
   ]
  },
  {
   "cell_type": "code",
   "execution_count": null,
   "id": "0e5ebb48-4c17-436b-a694-21ed001c988d",
   "metadata": {},
   "outputs": [],
   "source": []
  }
 ],
 "metadata": {
  "kernelspec": {
   "display_name": "Python 3 (ipykernel)",
   "language": "python",
   "name": "python3"
  },
  "language_info": {
   "codemirror_mode": {
    "name": "ipython",
    "version": 3
   },
   "file_extension": ".py",
   "mimetype": "text/x-python",
   "name": "python",
   "nbconvert_exporter": "python",
   "pygments_lexer": "ipython3",
   "version": "3.11.5"
  }
 },
 "nbformat": 4,
 "nbformat_minor": 5
}
