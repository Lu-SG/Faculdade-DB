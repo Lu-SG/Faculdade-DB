{
 "cells": [
  {
   "cell_type": "code",
   "execution_count": 2,
   "id": "54fde2e9-c734-4873-85c4-e1a8820a564b",
   "metadata": {},
   "outputs": [],
   "source": [
    "import pandas as pd\n",
    "import math"
   ]
  },
  {
   "cell_type": "code",
   "execution_count": 3,
   "id": "04ed40df-e135-41eb-b3f1-81fce07e0aaa",
   "metadata": {},
   "outputs": [],
   "source": [
    "df = pd.read_csv('alunos.csv',decimal=',')"
   ]
  },
  {
   "cell_type": "code",
   "execution_count": 4,
   "id": "30c773c9-414c-4897-bdbf-e738f95337fd",
   "metadata": {},
   "outputs": [
    {
     "data": {
      "text/html": [
       "<div>\n",
       "<style scoped>\n",
       "    .dataframe tbody tr th:only-of-type {\n",
       "        vertical-align: middle;\n",
       "    }\n",
       "\n",
       "    .dataframe tbody tr th {\n",
       "        vertical-align: top;\n",
       "    }\n",
       "\n",
       "    .dataframe thead th {\n",
       "        text-align: right;\n",
       "    }\n",
       "</style>\n",
       "<table border=\"1\" class=\"dataframe\">\n",
       "  <thead>\n",
       "    <tr style=\"text-align: right;\">\n",
       "      <th></th>\n",
       "      <th>Pesos</th>\n",
       "    </tr>\n",
       "  </thead>\n",
       "  <tbody>\n",
       "    <tr>\n",
       "      <th>count</th>\n",
       "      <td>29.000000</td>\n",
       "    </tr>\n",
       "    <tr>\n",
       "      <th>mean</th>\n",
       "      <td>64.862069</td>\n",
       "    </tr>\n",
       "    <tr>\n",
       "      <th>std</th>\n",
       "      <td>9.284104</td>\n",
       "    </tr>\n",
       "    <tr>\n",
       "      <th>min</th>\n",
       "      <td>50.000000</td>\n",
       "    </tr>\n",
       "    <tr>\n",
       "      <th>25%</th>\n",
       "      <td>57.000000</td>\n",
       "    </tr>\n",
       "    <tr>\n",
       "      <th>50%</th>\n",
       "      <td>65.000000</td>\n",
       "    </tr>\n",
       "    <tr>\n",
       "      <th>75%</th>\n",
       "      <td>73.000000</td>\n",
       "    </tr>\n",
       "    <tr>\n",
       "      <th>max</th>\n",
       "      <td>80.000000</td>\n",
       "    </tr>\n",
       "  </tbody>\n",
       "</table>\n",
       "</div>"
      ],
      "text/plain": [
       "           Pesos\n",
       "count  29.000000\n",
       "mean   64.862069\n",
       "std     9.284104\n",
       "min    50.000000\n",
       "25%    57.000000\n",
       "50%    65.000000\n",
       "75%    73.000000\n",
       "max    80.000000"
      ]
     },
     "execution_count": 4,
     "metadata": {},
     "output_type": "execute_result"
    }
   ],
   "source": [
    "# Método pandas para calcular desvio padrão\n",
    "df.describe()"
   ]
  },
  {
   "cell_type": "code",
   "execution_count": 5,
   "id": "72a892c1-59a5-430d-9914-2526428a5f6c",
   "metadata": {},
   "outputs": [],
   "source": [
    "df['Alturas'] = df['Alturas'].astype(float)"
   ]
  },
  {
   "cell_type": "code",
   "execution_count": 11,
   "id": "992be22f-5552-4397-8118-576ec9772067",
   "metadata": {},
   "outputs": [
    {
     "data": {
      "text/html": [
       "<div>\n",
       "<style scoped>\n",
       "    .dataframe tbody tr th:only-of-type {\n",
       "        vertical-align: middle;\n",
       "    }\n",
       "\n",
       "    .dataframe tbody tr th {\n",
       "        vertical-align: top;\n",
       "    }\n",
       "\n",
       "    .dataframe thead th {\n",
       "        text-align: right;\n",
       "    }\n",
       "</style>\n",
       "<table border=\"1\" class=\"dataframe\">\n",
       "  <thead>\n",
       "    <tr style=\"text-align: right;\">\n",
       "      <th></th>\n",
       "      <th>Pesos</th>\n",
       "      <th>Alturas</th>\n",
       "    </tr>\n",
       "  </thead>\n",
       "  <tbody>\n",
       "    <tr>\n",
       "      <th>0</th>\n",
       "      <td>58</td>\n",
       "      <td>1.58</td>\n",
       "    </tr>\n",
       "    <tr>\n",
       "      <th>1</th>\n",
       "      <td>78</td>\n",
       "      <td>1.80</td>\n",
       "    </tr>\n",
       "    <tr>\n",
       "      <th>2</th>\n",
       "      <td>70</td>\n",
       "      <td>1.70</td>\n",
       "    </tr>\n",
       "    <tr>\n",
       "      <th>3</th>\n",
       "      <td>80</td>\n",
       "      <td>1.80</td>\n",
       "    </tr>\n",
       "    <tr>\n",
       "      <th>4</th>\n",
       "      <td>77</td>\n",
       "      <td>1.76</td>\n",
       "    </tr>\n",
       "    <tr>\n",
       "      <th>5</th>\n",
       "      <td>74</td>\n",
       "      <td>1.73</td>\n",
       "    </tr>\n",
       "    <tr>\n",
       "      <th>6</th>\n",
       "      <td>61</td>\n",
       "      <td>1.63</td>\n",
       "    </tr>\n",
       "    <tr>\n",
       "      <th>7</th>\n",
       "      <td>65</td>\n",
       "      <td>1.65</td>\n",
       "    </tr>\n",
       "    <tr>\n",
       "      <th>8</th>\n",
       "      <td>55</td>\n",
       "      <td>1.56</td>\n",
       "    </tr>\n",
       "    <tr>\n",
       "      <th>9</th>\n",
       "      <td>76</td>\n",
       "      <td>1.79</td>\n",
       "    </tr>\n",
       "    <tr>\n",
       "      <th>10</th>\n",
       "      <td>54</td>\n",
       "      <td>1.56</td>\n",
       "    </tr>\n",
       "    <tr>\n",
       "      <th>11</th>\n",
       "      <td>53</td>\n",
       "      <td>1.51</td>\n",
       "    </tr>\n",
       "    <tr>\n",
       "      <th>12</th>\n",
       "      <td>69</td>\n",
       "      <td>1.69</td>\n",
       "    </tr>\n",
       "    <tr>\n",
       "      <th>13</th>\n",
       "      <td>67</td>\n",
       "      <td>1.67</td>\n",
       "    </tr>\n",
       "    <tr>\n",
       "      <th>14</th>\n",
       "      <td>72</td>\n",
       "      <td>1.74</td>\n",
       "    </tr>\n",
       "    <tr>\n",
       "      <th>15</th>\n",
       "      <td>58</td>\n",
       "      <td>1.60</td>\n",
       "    </tr>\n",
       "    <tr>\n",
       "      <th>16</th>\n",
       "      <td>53</td>\n",
       "      <td>1.52</td>\n",
       "    </tr>\n",
       "    <tr>\n",
       "      <th>17</th>\n",
       "      <td>55</td>\n",
       "      <td>1.57</td>\n",
       "    </tr>\n",
       "    <tr>\n",
       "      <th>18</th>\n",
       "      <td>57</td>\n",
       "      <td>1.57</td>\n",
       "    </tr>\n",
       "    <tr>\n",
       "      <th>19</th>\n",
       "      <td>66</td>\n",
       "      <td>1.67</td>\n",
       "    </tr>\n",
       "    <tr>\n",
       "      <th>20</th>\n",
       "      <td>65</td>\n",
       "      <td>1.64</td>\n",
       "    </tr>\n",
       "    <tr>\n",
       "      <th>21</th>\n",
       "      <td>50</td>\n",
       "      <td>1.50</td>\n",
       "    </tr>\n",
       "    <tr>\n",
       "      <th>22</th>\n",
       "      <td>63</td>\n",
       "      <td>1.64</td>\n",
       "    </tr>\n",
       "    <tr>\n",
       "      <th>23</th>\n",
       "      <td>58</td>\n",
       "      <td>1.56</td>\n",
       "    </tr>\n",
       "    <tr>\n",
       "      <th>24</th>\n",
       "      <td>55</td>\n",
       "      <td>1.56</td>\n",
       "    </tr>\n",
       "    <tr>\n",
       "      <th>25</th>\n",
       "      <td>63</td>\n",
       "      <td>1.62</td>\n",
       "    </tr>\n",
       "    <tr>\n",
       "      <th>26</th>\n",
       "      <td>73</td>\n",
       "      <td>1.71</td>\n",
       "    </tr>\n",
       "    <tr>\n",
       "      <th>27</th>\n",
       "      <td>80</td>\n",
       "      <td>1.83</td>\n",
       "    </tr>\n",
       "    <tr>\n",
       "      <th>28</th>\n",
       "      <td>76</td>\n",
       "      <td>1.76</td>\n",
       "    </tr>\n",
       "  </tbody>\n",
       "</table>\n",
       "</div>"
      ],
      "text/plain": [
       "    Pesos  Alturas\n",
       "0      58     1.58\n",
       "1      78     1.80\n",
       "2      70     1.70\n",
       "3      80     1.80\n",
       "4      77     1.76\n",
       "5      74     1.73\n",
       "6      61     1.63\n",
       "7      65     1.65\n",
       "8      55     1.56\n",
       "9      76     1.79\n",
       "10     54     1.56\n",
       "11     53     1.51\n",
       "12     69     1.69\n",
       "13     67     1.67\n",
       "14     72     1.74\n",
       "15     58     1.60\n",
       "16     53     1.52\n",
       "17     55     1.57\n",
       "18     57     1.57\n",
       "19     66     1.67\n",
       "20     65     1.64\n",
       "21     50     1.50\n",
       "22     63     1.64\n",
       "23     58     1.56\n",
       "24     55     1.56\n",
       "25     63     1.62\n",
       "26     73     1.71\n",
       "27     80     1.83\n",
       "28     76     1.76"
      ]
     },
     "execution_count": 11,
     "metadata": {},
     "output_type": "execute_result"
    }
   ],
   "source": [
    "df"
   ]
  },
  {
   "cell_type": "markdown",
   "id": "0a59683b-a985-4e28-a405-48b1546b9afe",
   "metadata": {},
   "source": [
    "# Fórmula do Desvio Padrão Populacional e Amostral"
   ]
  },
  {
   "cell_type": "markdown",
   "id": "02b33f61-1587-4055-8a20-0848bee21d65",
   "metadata": {},
   "source": [
    "[Lista dos Simbolos/Fórmulas Matemáticos para Markdown](https://en.wikipedia.org/wiki/List_of_mathematical_symbols_by_subject)."
   ]
  },
  {
   "cell_type": "markdown",
   "id": "a0010603-d115-4840-9d38-7e939dcbe900",
   "metadata": {},
   "source": [
    "O desvio padrão é uma medida estatística que quantifica a dispersão ou variabilidade de um conjunto de dados."
   ]
  },
  {
   "cell_type": "markdown",
   "id": "418d0377-4676-4ff9-a8b5-d00b0c135ee1",
   "metadata": {},
   "source": [
    "## Fórmula do Desvio Padrão Populacional"
   ]
  },
  {
   "cell_type": "markdown",
   "id": "2fb4dcdc-fcce-4d2b-b2d8-22ebc38e18a7",
   "metadata": {},
   "source": [
    "$ \\sigma $ = Desvio Padrão Populacional\n",
    "\n",
    "N = Número de elementos da população\n",
    "\n",
    "$ \\bar x $ = Média Aritmética\n",
    "\n",
    "i = Cada elemento da população"
   ]
  },
  {
   "cell_type": "markdown",
   "id": "2d5d2f44-b8ee-4816-a39f-258db6821ef9",
   "metadata": {},
   "source": [
    "\\begin{equation*}\n",
    "\\sigma = \\sqrt \n",
    "{\n",
    "\\sum _{i=1}^N\n",
    "\\frac{  (x_i - \\bar x)^{2} } { N }\n",
    "}\n",
    "\\end{equation*}"
   ]
  },
  {
   "cell_type": "markdown",
   "id": "a6972cc6-d7b8-4aaf-9302-fe234321d6ca",
   "metadata": {},
   "source": [
    "## Fórmula do Desvio Padrão da Amostra"
   ]
  },
  {
   "cell_type": "markdown",
   "id": "11a5bb33-d3c4-43d4-9844-4fdb853c3cdc",
   "metadata": {},
   "source": [
    "S = Desvio padrão da amostra\n",
    "\n",
    "n = Número de elementos da amostra\n",
    "\n",
    "$ \\bar x $ = Média Aritmética\n",
    "\n",
    "i = Cada elemento da amostra"
   ]
  },
  {
   "cell_type": "markdown",
   "id": "dc0348c4-7b6a-432e-850e-93f7b700f8d4",
   "metadata": {},
   "source": [
    "\\begin{equation*}\n",
    "S = \\sqrt \n",
    "{\n",
    "\\sum _{i=1}^ n\n",
    "\\frac{  (x_i - \\bar x)^{2} } { n - 1 }\n",
    "}\n",
    "\\end{equation*}"
   ]
  },
  {
   "cell_type": "code",
   "execution_count": 6,
   "id": "bf69e568-d916-4d5c-bf1e-0ef816b35138",
   "metadata": {},
   "outputs": [],
   "source": [
    "def calc_desvio_padrao(lista):\n",
    "    media = sum(lista) / len(lista)\n",
    "\n",
    "    total = 0\n",
    "\n",
    "    for el in lista:\n",
    "        item = el - media\n",
    "        total += item ** 2\n",
    "\n",
    "    result = math.sqrt(total / (len(lista) -1))\n",
    "    \n",
    "    return result"
   ]
  },
  {
   "cell_type": "code",
   "execution_count": 7,
   "id": "f3501f54-4e06-49d6-82c8-2c43f62f8f01",
   "metadata": {},
   "outputs": [],
   "source": [
    "alturas = calc_desvio_padrao(df['Alturas'])\n",
    "pesos = calc_desvio_padrao(df['Pesos'])"
   ]
  },
  {
   "cell_type": "code",
   "execution_count": 8,
   "id": "ce2b9bf2-c16e-4bd7-81b1-149e9239b3d6",
   "metadata": {},
   "outputs": [
    {
     "name": "stdout",
     "output_type": "stream",
     "text": [
      "Desvio padrao das alturas: 0.09582928170203037\n",
      "Desvio padrao dos pesos: 9.284103687528924\n"
     ]
    }
   ],
   "source": [
    "print(f'Desvio padrao das alturas: {alturas}\\nDesvio padrao dos pesos: {pesos}')"
   ]
  }
 ],
 "metadata": {
  "kernelspec": {
   "display_name": "Python 3 (ipykernel)",
   "language": "python",
   "name": "python3"
  },
  "language_info": {
   "codemirror_mode": {
    "name": "ipython",
    "version": 3
   },
   "file_extension": ".py",
   "mimetype": "text/x-python",
   "name": "python",
   "nbconvert_exporter": "python",
   "pygments_lexer": "ipython3",
   "version": "3.11.5"
  }
 },
 "nbformat": 4,
 "nbformat_minor": 5
}
