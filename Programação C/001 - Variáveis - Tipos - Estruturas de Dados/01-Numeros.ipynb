{
 "cells": [
  {
   "cell_type": "code",
   "execution_count": null,
   "metadata": {
    "colab": {
     "base_uri": "https://localhost:8080/"
    },
    "executionInfo": {
     "elapsed": 435,
     "status": "ok",
     "timestamp": 1690850617341,
     "user": {
      "displayName": "MARCELO HENRIQUE EUZEBIO BATISTA",
      "userId": "05981388620014606020"
     },
     "user_tz": 180
    },
    "id": "dB8lFSSlZvVo",
    "outputId": "6f1ebd74-a23c-4297-ea3d-5a9250553690"
   },
   "outputs": [
    {
     "name": "stdout",
     "output_type": "stream",
     "text": [
      "Versão da Linguagem Python Usada Neste Jupyter Notebook: 3.10.6\n"
     ]
    }
   ],
   "source": [
    "# Versão da Linguagem Python\n",
    "from platform import python_version\n",
    "print('Versão da Linguagem Python Usada Neste Jupyter Notebook:', python_version())"
   ]
  },
  {
   "cell_type": "markdown",
   "metadata": {
    "id": "vIEqtfpXZvVw"
   },
   "source": [
    "## Números e Operações Matemáticas"
   ]
  },
  {
   "cell_type": "markdown",
   "metadata": {
    "id": "6a9B0UJ-ZvVz"
   },
   "source": [
    "# Pressione as teclas shift e enter para executar o código em uma célula ou pressione o botão Play no menu superior - ou lateral no Google Colaboratory"
   ]
  },
  {
   "cell_type": "code",
   "execution_count": null,
   "metadata": {
    "colab": {
     "base_uri": "https://localhost:8080/"
    },
    "executionInfo": {
     "elapsed": 3,
     "status": "ok",
     "timestamp": 1690889653092,
     "user": {
      "displayName": "MARCELO HENRIQUE EUZEBIO BATISTA",
      "userId": "05981388620014606020"
     },
     "user_tz": 180
    },
    "id": "8QxXZwh9ZvVz",
    "outputId": "9b944e51-7bc3-4cf6-facc-591748718c4e"
   },
   "outputs": [
    {
     "data": {
      "text/plain": [
       "8"
      ]
     },
     "execution_count": 1,
     "metadata": {},
     "output_type": "execute_result"
    }
   ],
   "source": [
    "# Soma\n",
    "4 + 4"
   ]
  },
  {
   "cell_type": "code",
   "execution_count": null,
   "metadata": {
    "colab": {
     "base_uri": "https://localhost:8080/"
    },
    "executionInfo": {
     "elapsed": 32,
     "status": "ok",
     "timestamp": 1690850617699,
     "user": {
      "displayName": "MARCELO HENRIQUE EUZEBIO BATISTA",
      "userId": "05981388620014606020"
     },
     "user_tz": 180
    },
    "id": "xQIOjGGlZvV0",
    "outputId": "a762c7cc-3664-48ba-a23f-31fd0362f1f4"
   },
   "outputs": [
    {
     "data": {
      "text/plain": [
       "1"
      ]
     },
     "execution_count": 12,
     "metadata": {},
     "output_type": "execute_result"
    }
   ],
   "source": [
    "# Subtração\n",
    "4 - 3"
   ]
  },
  {
   "cell_type": "code",
   "execution_count": null,
   "metadata": {
    "colab": {
     "base_uri": "https://localhost:8080/"
    },
    "executionInfo": {
     "elapsed": 28,
     "status": "ok",
     "timestamp": 1690850617699,
     "user": {
      "displayName": "MARCELO HENRIQUE EUZEBIO BATISTA",
      "userId": "05981388620014606020"
     },
     "user_tz": 180
    },
    "id": "0nDk4POCZvV1",
    "outputId": "94ca5620-aa52-4f34-8745-172724abb572"
   },
   "outputs": [
    {
     "data": {
      "text/plain": [
       "9"
      ]
     },
     "execution_count": 13,
     "metadata": {},
     "output_type": "execute_result"
    }
   ],
   "source": [
    "# Multiplicação\n",
    "3 * 3"
   ]
  },
  {
   "cell_type": "code",
   "execution_count": null,
   "metadata": {
    "colab": {
     "base_uri": "https://localhost:8080/"
    },
    "executionInfo": {
     "elapsed": 26,
     "status": "ok",
     "timestamp": 1690850617700,
     "user": {
      "displayName": "MARCELO HENRIQUE EUZEBIO BATISTA",
      "userId": "05981388620014606020"
     },
     "user_tz": 180
    },
    "id": "2ZEUP7D7ZvV3",
    "outputId": "d893a93c-fb2f-4071-b799-e70fe6f62829"
   },
   "outputs": [
    {
     "data": {
      "text/plain": [
       "1.5"
      ]
     },
     "execution_count": 14,
     "metadata": {},
     "output_type": "execute_result"
    }
   ],
   "source": [
    "# Divisão\n",
    "3 / 2"
   ]
  },
  {
   "cell_type": "code",
   "execution_count": null,
   "metadata": {
    "colab": {
     "base_uri": "https://localhost:8080/"
    },
    "executionInfo": {
     "elapsed": 22,
     "status": "ok",
     "timestamp": 1690850617700,
     "user": {
      "displayName": "MARCELO HENRIQUE EUZEBIO BATISTA",
      "userId": "05981388620014606020"
     },
     "user_tz": 180
    },
    "id": "GYpAFkg8ZvV4",
    "outputId": "046dc03a-fd53-4882-ae2a-6bae0d64d442"
   },
   "outputs": [
    {
     "data": {
      "text/plain": [
       "16"
      ]
     },
     "execution_count": 15,
     "metadata": {},
     "output_type": "execute_result"
    }
   ],
   "source": [
    "# Potência\n",
    "4 ** 2"
   ]
  },
  {
   "cell_type": "code",
   "execution_count": null,
   "metadata": {
    "colab": {
     "base_uri": "https://localhost:8080/"
    },
    "executionInfo": {
     "elapsed": 19,
     "status": "ok",
     "timestamp": 1690850617701,
     "user": {
      "displayName": "MARCELO HENRIQUE EUZEBIO BATISTA",
      "userId": "05981388620014606020"
     },
     "user_tz": 180
    },
    "id": "3pA9hNkIZvV5",
    "outputId": "0af1d6e8-87b1-46a7-ad2f-3040908de3fc"
   },
   "outputs": [
    {
     "data": {
      "text/plain": [
       "1"
      ]
     },
     "execution_count": 16,
     "metadata": {},
     "output_type": "execute_result"
    }
   ],
   "source": [
    "# Módulo - resto da divisão\n",
    "10 % 3"
   ]
  },
  {
   "cell_type": "markdown",
   "metadata": {
    "id": "uafUfS9NZvV6"
   },
   "source": [
    "### Função Type"
   ]
  },
  {
   "cell_type": "code",
   "execution_count": null,
   "metadata": {
    "colab": {
     "base_uri": "https://localhost:8080/"
    },
    "executionInfo": {
     "elapsed": 15,
     "status": "ok",
     "timestamp": 1690850617701,
     "user": {
      "displayName": "MARCELO HENRIQUE EUZEBIO BATISTA",
      "userId": "05981388620014606020"
     },
     "user_tz": 180
    },
    "id": "XBQTUsusZvV7",
    "outputId": "ec8bd03b-d29b-4941-b74f-4f8e8bf2223b"
   },
   "outputs": [
    {
     "data": {
      "text/plain": [
       "int"
      ]
     },
     "execution_count": 17,
     "metadata": {},
     "output_type": "execute_result"
    }
   ],
   "source": [
    "type(5)"
   ]
  },
  {
   "cell_type": "code",
   "execution_count": null,
   "metadata": {
    "colab": {
     "base_uri": "https://localhost:8080/"
    },
    "executionInfo": {
     "elapsed": 12,
     "status": "ok",
     "timestamp": 1690850617702,
     "user": {
      "displayName": "MARCELO HENRIQUE EUZEBIO BATISTA",
      "userId": "05981388620014606020"
     },
     "user_tz": 180
    },
    "id": "gjjEHH02ZvV8",
    "outputId": "aace21fa-2e9a-462f-a9df-2fabd3afe020"
   },
   "outputs": [
    {
     "data": {
      "text/plain": [
       "float"
      ]
     },
     "execution_count": 18,
     "metadata": {},
     "output_type": "execute_result"
    }
   ],
   "source": [
    "type(5.0)"
   ]
  },
  {
   "cell_type": "code",
   "execution_count": null,
   "metadata": {
    "colab": {
     "base_uri": "https://localhost:8080/"
    },
    "executionInfo": {
     "elapsed": 460,
     "status": "ok",
     "timestamp": 1690850618153,
     "user": {
      "displayName": "MARCELO HENRIQUE EUZEBIO BATISTA",
      "userId": "05981388620014606020"
     },
     "user_tz": 180
    },
    "id": "kkvuvZRTZvV8",
    "outputId": "a2c4cd59-ba29-4b8c-8cc6-fd02cc3240e3"
   },
   "outputs": [
    {
     "data": {
      "text/plain": [
       "str"
      ]
     },
     "execution_count": 19,
     "metadata": {},
     "output_type": "execute_result"
    }
   ],
   "source": [
    "a = 'Eu sou uma string'\n",
    "type(a)"
   ]
  },
  {
   "cell_type": "markdown",
   "metadata": {
    "id": "x2ou5zt3ZvV9"
   },
   "source": [
    "### Operações com números float"
   ]
  },
  {
   "cell_type": "code",
   "execution_count": null,
   "metadata": {
    "colab": {
     "base_uri": "https://localhost:8080/"
    },
    "executionInfo": {
     "elapsed": 72,
     "status": "ok",
     "timestamp": 1690850618154,
     "user": {
      "displayName": "MARCELO HENRIQUE EUZEBIO BATISTA",
      "userId": "05981388620014606020"
     },
     "user_tz": 180
    },
    "id": "3SMk3kz3ZvV9",
    "outputId": "0f1a9613-ae70-4da8-8a57-0bb89622498f"
   },
   "outputs": [
    {
     "data": {
      "text/plain": [
       "9.5"
      ]
     },
     "execution_count": 20,
     "metadata": {},
     "output_type": "execute_result"
    }
   ],
   "source": [
    "3.1 + 6.4"
   ]
  },
  {
   "cell_type": "code",
   "execution_count": null,
   "metadata": {
    "colab": {
     "base_uri": "https://localhost:8080/"
    },
    "executionInfo": {
     "elapsed": 70,
     "status": "ok",
     "timestamp": 1690850618155,
     "user": {
      "displayName": "MARCELO HENRIQUE EUZEBIO BATISTA",
      "userId": "05981388620014606020"
     },
     "user_tz": 180
    },
    "id": "62R643SGZvV-",
    "outputId": "8860b243-1d93-4adb-9cda-48cec9824aba"
   },
   "outputs": [
    {
     "data": {
      "text/plain": [
       "8.0"
      ]
     },
     "execution_count": 21,
     "metadata": {},
     "output_type": "execute_result"
    }
   ],
   "source": [
    "4 + 4.0"
   ]
  },
  {
   "cell_type": "code",
   "execution_count": null,
   "metadata": {
    "colab": {
     "base_uri": "https://localhost:8080/"
    },
    "executionInfo": {
     "elapsed": 67,
     "status": "ok",
     "timestamp": 1690850618156,
     "user": {
      "displayName": "MARCELO HENRIQUE EUZEBIO BATISTA",
      "userId": "05981388620014606020"
     },
     "user_tz": 180
    },
    "id": "vUM4528QZvV_",
    "outputId": "40712b1a-59f7-4292-a4dd-c084816279f9"
   },
   "outputs": [
    {
     "data": {
      "text/plain": [
       "8"
      ]
     },
     "execution_count": 22,
     "metadata": {},
     "output_type": "execute_result"
    }
   ],
   "source": [
    "4 + 4"
   ]
  },
  {
   "cell_type": "code",
   "execution_count": null,
   "metadata": {
    "colab": {
     "base_uri": "https://localhost:8080/"
    },
    "executionInfo": {
     "elapsed": 65,
     "status": "ok",
     "timestamp": 1690850618157,
     "user": {
      "displayName": "MARCELO HENRIQUE EUZEBIO BATISTA",
      "userId": "05981388620014606020"
     },
     "user_tz": 180
    },
    "id": "n91it9vOZvV_",
    "outputId": "58f127ea-10fd-43be-bf6a-49de1ba5ab0c"
   },
   "outputs": [
    {
     "data": {
      "text/plain": [
       "2.0"
      ]
     },
     "execution_count": 23,
     "metadata": {},
     "output_type": "execute_result"
    }
   ],
   "source": [
    "# Resultado é um número float\n",
    "4 / 2"
   ]
  },
  {
   "cell_type": "code",
   "execution_count": null,
   "metadata": {
    "colab": {
     "base_uri": "https://localhost:8080/"
    },
    "executionInfo": {
     "elapsed": 62,
     "status": "ok",
     "timestamp": 1690850618158,
     "user": {
      "displayName": "MARCELO HENRIQUE EUZEBIO BATISTA",
      "userId": "05981388620014606020"
     },
     "user_tz": 180
    },
    "id": "NtmCuX-FZvWA",
    "outputId": "f396f345-612d-42d1-9624-9cc6c93e13b0"
   },
   "outputs": [
    {
     "data": {
      "text/plain": [
       "1.3333333333333333"
      ]
     },
     "execution_count": 24,
     "metadata": {},
     "output_type": "execute_result"
    }
   ],
   "source": [
    "4 / 3.0"
   ]
  },
  {
   "cell_type": "code",
   "execution_count": null,
   "metadata": {
    "colab": {
     "base_uri": "https://localhost:8080/"
    },
    "executionInfo": {
     "elapsed": 60,
     "status": "ok",
     "timestamp": 1690850618159,
     "user": {
      "displayName": "MARCELO HENRIQUE EUZEBIO BATISTA",
      "userId": "05981388620014606020"
     },
     "user_tz": 180
    },
    "id": "zK8tiAS0ZvV_",
    "outputId": "b7976cd0-e8c6-493d-b1f2-683f500fe5fb"
   },
   "outputs": [
    {
     "data": {
      "text/plain": [
       "2"
      ]
     },
     "execution_count": 25,
     "metadata": {},
     "output_type": "execute_result"
    }
   ],
   "source": [
    "# divide dois valores (arredondando para baixo)\n",
    "5 // 2"
   ]
  },
  {
   "cell_type": "code",
   "execution_count": null,
   "metadata": {
    "colab": {
     "base_uri": "https://localhost:8080/"
    },
    "executionInfo": {
     "elapsed": 58,
     "status": "ok",
     "timestamp": 1690850618160,
     "user": {
      "displayName": "MARCELO HENRIQUE EUZEBIO BATISTA",
      "userId": "05981388620014606020"
     },
     "user_tz": 180
    },
    "id": "5e-aKGpbZvWA",
    "outputId": "f19020e8-9406-4830-a42a-dc80f20e7615"
   },
   "outputs": [
    {
     "data": {
      "text/plain": [
       "1.0"
      ]
     },
     "execution_count": 26,
     "metadata": {},
     "output_type": "execute_result"
    }
   ],
   "source": [
    "4 // 3.0"
   ]
  },
  {
   "cell_type": "code",
   "execution_count": null,
   "metadata": {
    "colab": {
     "base_uri": "https://localhost:8080/"
    },
    "executionInfo": {
     "elapsed": 56,
     "status": "ok",
     "timestamp": 1690850618161,
     "user": {
      "displayName": "MARCELO HENRIQUE EUZEBIO BATISTA",
      "userId": "05981388620014606020"
     },
     "user_tz": 180
    },
    "id": "EMGMU_qWaqkS",
    "outputId": "af6d7559-3cd3-4029-be26-0bda4ce95706"
   },
   "outputs": [
    {
     "data": {
      "text/plain": [
       "2"
      ]
     },
     "execution_count": 27,
     "metadata": {},
     "output_type": "execute_result"
    }
   ],
   "source": [
    "5 // 2"
   ]
  },
  {
   "cell_type": "markdown",
   "metadata": {
    "id": "AZv9jvvNZvWB"
   },
   "source": [
    "### Conversão"
   ]
  },
  {
   "cell_type": "code",
   "execution_count": null,
   "metadata": {
    "colab": {
     "base_uri": "https://localhost:8080/"
    },
    "executionInfo": {
     "elapsed": 57,
     "status": "ok",
     "timestamp": 1690850618164,
     "user": {
      "displayName": "MARCELO HENRIQUE EUZEBIO BATISTA",
      "userId": "05981388620014606020"
     },
     "user_tz": 180
    },
    "id": "D1fyWXnJZvWB",
    "outputId": "bd50d158-c727-4202-91c0-92f62dd8b44a"
   },
   "outputs": [
    {
     "data": {
      "text/plain": [
       "9.0"
      ]
     },
     "execution_count": 28,
     "metadata": {},
     "output_type": "execute_result"
    }
   ],
   "source": [
    "float(9)"
   ]
  },
  {
   "cell_type": "code",
   "execution_count": null,
   "metadata": {
    "colab": {
     "base_uri": "https://localhost:8080/"
    },
    "executionInfo": {
     "elapsed": 55,
     "status": "ok",
     "timestamp": 1690850618164,
     "user": {
      "displayName": "MARCELO HENRIQUE EUZEBIO BATISTA",
      "userId": "05981388620014606020"
     },
     "user_tz": 180
    },
    "id": "GaOO4E7AZvWC",
    "outputId": "59143749-d3bd-4183-da77-6bd7cb564502"
   },
   "outputs": [
    {
     "data": {
      "text/plain": [
       "6"
      ]
     },
     "execution_count": 29,
     "metadata": {},
     "output_type": "execute_result"
    }
   ],
   "source": [
    "int(6.0)"
   ]
  },
  {
   "cell_type": "code",
   "execution_count": null,
   "metadata": {
    "colab": {
     "base_uri": "https://localhost:8080/"
    },
    "executionInfo": {
     "elapsed": 54,
     "status": "ok",
     "timestamp": 1690850618165,
     "user": {
      "displayName": "MARCELO HENRIQUE EUZEBIO BATISTA",
      "userId": "05981388620014606020"
     },
     "user_tz": 180
    },
    "id": "RTGBlDjGZvWC",
    "outputId": "242f3b01-9cdd-4b0a-c27c-ec953542b790"
   },
   "outputs": [
    {
     "data": {
      "text/plain": [
       "6"
      ]
     },
     "execution_count": 30,
     "metadata": {},
     "output_type": "execute_result"
    }
   ],
   "source": [
    "int(6.5)"
   ]
  },
  {
   "cell_type": "markdown",
   "metadata": {
    "id": "FPHTEKbuZvWD"
   },
   "source": [
    "### Hexadecimal e Binário"
   ]
  },
  {
   "cell_type": "code",
   "execution_count": null,
   "metadata": {
    "colab": {
     "base_uri": "https://localhost:8080/",
     "height": 36
    },
    "executionInfo": {
     "elapsed": 53,
     "status": "ok",
     "timestamp": 1690850618166,
     "user": {
      "displayName": "MARCELO HENRIQUE EUZEBIO BATISTA",
      "userId": "05981388620014606020"
     },
     "user_tz": 180
    },
    "id": "2OYylxx_ZvWD",
    "outputId": "be3247fa-046b-4db4-a67b-90065d9690dd"
   },
   "outputs": [
    {
     "data": {
      "application/vnd.google.colaboratory.intrinsic+json": {
       "type": "string"
      },
      "text/plain": [
       "'0x18a'"
      ]
     },
     "execution_count": 31,
     "metadata": {},
     "output_type": "execute_result"
    }
   ],
   "source": [
    "hex(394)"
   ]
  },
  {
   "cell_type": "code",
   "execution_count": null,
   "metadata": {
    "colab": {
     "base_uri": "https://localhost:8080/",
     "height": 36
    },
    "executionInfo": {
     "elapsed": 51,
     "status": "ok",
     "timestamp": 1690850618167,
     "user": {
      "displayName": "MARCELO HENRIQUE EUZEBIO BATISTA",
      "userId": "05981388620014606020"
     },
     "user_tz": 180
    },
    "id": "r4Ey194EZvWD",
    "outputId": "b0cfd5f6-daa7-49f0-ce70-fb1516b80155"
   },
   "outputs": [
    {
     "data": {
      "application/vnd.google.colaboratory.intrinsic+json": {
       "type": "string"
      },
      "text/plain": [
       "'0xd9'"
      ]
     },
     "execution_count": 32,
     "metadata": {},
     "output_type": "execute_result"
    }
   ],
   "source": [
    "hex(217)"
   ]
  },
  {
   "cell_type": "code",
   "execution_count": null,
   "metadata": {
    "colab": {
     "base_uri": "https://localhost:8080/",
     "height": 36
    },
    "executionInfo": {
     "elapsed": 50,
     "status": "ok",
     "timestamp": 1690850618168,
     "user": {
      "displayName": "MARCELO HENRIQUE EUZEBIO BATISTA",
      "userId": "05981388620014606020"
     },
     "user_tz": 180
    },
    "id": "VRhZgDUQZvWE",
    "outputId": "b00be04a-341d-439f-a265-7fc6ad6ae038"
   },
   "outputs": [
    {
     "data": {
      "application/vnd.google.colaboratory.intrinsic+json": {
       "type": "string"
      },
      "text/plain": [
       "'0b100011110'"
      ]
     },
     "execution_count": 33,
     "metadata": {},
     "output_type": "execute_result"
    }
   ],
   "source": [
    "bin(286)"
   ]
  },
  {
   "cell_type": "code",
   "execution_count": null,
   "metadata": {
    "colab": {
     "base_uri": "https://localhost:8080/",
     "height": 36
    },
    "executionInfo": {
     "elapsed": 50,
     "status": "ok",
     "timestamp": 1690850618169,
     "user": {
      "displayName": "MARCELO HENRIQUE EUZEBIO BATISTA",
      "userId": "05981388620014606020"
     },
     "user_tz": 180
    },
    "id": "OC6-7Q_kZvWE",
    "outputId": "0f944e21-f9d2-4aa2-aa37-19ada6582f46"
   },
   "outputs": [
    {
     "data": {
      "application/vnd.google.colaboratory.intrinsic+json": {
       "type": "string"
      },
      "text/plain": [
       "'0b110000110'"
      ]
     },
     "execution_count": 34,
     "metadata": {},
     "output_type": "execute_result"
    }
   ],
   "source": [
    "bin(390)"
   ]
  },
  {
   "cell_type": "markdown",
   "metadata": {
    "id": "0VQUKtpgZvWF"
   },
   "source": [
    "### Funções abs, round e pow"
   ]
  },
  {
   "cell_type": "code",
   "execution_count": null,
   "metadata": {
    "colab": {
     "base_uri": "https://localhost:8080/"
    },
    "executionInfo": {
     "elapsed": 49,
     "status": "ok",
     "timestamp": 1690850618170,
     "user": {
      "displayName": "MARCELO HENRIQUE EUZEBIO BATISTA",
      "userId": "05981388620014606020"
     },
     "user_tz": 180
    },
    "id": "ajQ-rH7-ZvWF",
    "outputId": "8f2fccfd-aeb5-43de-c29f-becf600e6041"
   },
   "outputs": [
    {
     "data": {
      "text/plain": [
       "8"
      ]
     },
     "execution_count": 35,
     "metadata": {},
     "output_type": "execute_result"
    }
   ],
   "source": [
    "# Retorna o valor absoluto\n",
    "abs(-8)"
   ]
  },
  {
   "cell_type": "code",
   "execution_count": null,
   "metadata": {
    "colab": {
     "base_uri": "https://localhost:8080/"
    },
    "executionInfo": {
     "elapsed": 47,
     "status": "ok",
     "timestamp": 1690850618171,
     "user": {
      "displayName": "MARCELO HENRIQUE EUZEBIO BATISTA",
      "userId": "05981388620014606020"
     },
     "user_tz": 180
    },
    "id": "-8Wyh1pdZvWF",
    "outputId": "e23dce8e-de8f-476d-fd73-52dbfdcb7144"
   },
   "outputs": [
    {
     "data": {
      "text/plain": [
       "8"
      ]
     },
     "execution_count": 36,
     "metadata": {},
     "output_type": "execute_result"
    }
   ],
   "source": [
    "# Retorna o valor absoluto\n",
    "abs(8)"
   ]
  },
  {
   "cell_type": "code",
   "execution_count": null,
   "metadata": {
    "colab": {
     "base_uri": "https://localhost:8080/"
    },
    "executionInfo": {
     "elapsed": 45,
     "status": "ok",
     "timestamp": 1690850618171,
     "user": {
      "displayName": "MARCELO HENRIQUE EUZEBIO BATISTA",
      "userId": "05981388620014606020"
     },
     "user_tz": 180
    },
    "id": "WVkGNTlAZvWG",
    "outputId": "3d15ba25-a9ce-49ed-bc7d-33a803a6f09d"
   },
   "outputs": [
    {
     "data": {
      "text/plain": [
       "3.14"
      ]
     },
     "execution_count": 37,
     "metadata": {},
     "output_type": "execute_result"
    }
   ],
   "source": [
    "# Retorna o valor com arredondamento\n",
    "round(3.14151922,2)"
   ]
  },
  {
   "cell_type": "code",
   "execution_count": null,
   "metadata": {
    "colab": {
     "base_uri": "https://localhost:8080/"
    },
    "executionInfo": {
     "elapsed": 44,
     "status": "ok",
     "timestamp": 1690850618172,
     "user": {
      "displayName": "MARCELO HENRIQUE EUZEBIO BATISTA",
      "userId": "05981388620014606020"
     },
     "user_tz": 180
    },
    "id": "yI_2sFddZvWG",
    "outputId": "40eedad2-d297-4921-aaf4-5b49f228e13b"
   },
   "outputs": [
    {
     "data": {
      "text/plain": [
       "16"
      ]
     },
     "execution_count": 38,
     "metadata": {},
     "output_type": "execute_result"
    }
   ],
   "source": [
    "# Potência\n",
    "pow(4,2)"
   ]
  },
  {
   "cell_type": "code",
   "execution_count": null,
   "metadata": {
    "colab": {
     "base_uri": "https://localhost:8080/"
    },
    "executionInfo": {
     "elapsed": 43,
     "status": "ok",
     "timestamp": 1690850618173,
     "user": {
      "displayName": "MARCELO HENRIQUE EUZEBIO BATISTA",
      "userId": "05981388620014606020"
     },
     "user_tz": 180
    },
    "id": "bQwf7GxdZvWG",
    "outputId": "27283723-60ae-43ca-93b8-c3f5e4d6ce7c"
   },
   "outputs": [
    {
     "data": {
      "text/plain": [
       "125"
      ]
     },
     "execution_count": 39,
     "metadata": {},
     "output_type": "execute_result"
    }
   ],
   "source": [
    "# Potência\n",
    "pow(5,3)"
   ]
  }
 ],
 "metadata": {
  "anaconda-cloud": {},
  "colab": {
   "provenance": []
  },
  "kernelspec": {
   "display_name": "Python 3 (ipykernel)",
   "language": "python",
   "name": "python3"
  },
  "language_info": {
   "codemirror_mode": {
    "name": "ipython",
    "version": 3
   },
   "file_extension": ".py",
   "mimetype": "text/x-python",
   "name": "python",
   "nbconvert_exporter": "python",
   "pygments_lexer": "ipython3",
   "version": "3.11.5"
  }
 },
 "nbformat": 4,
 "nbformat_minor": 4
}
