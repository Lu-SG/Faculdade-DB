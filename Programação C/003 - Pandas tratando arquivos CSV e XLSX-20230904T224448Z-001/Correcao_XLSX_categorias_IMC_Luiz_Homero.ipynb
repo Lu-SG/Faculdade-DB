{
 "cells": [
  {
   "cell_type": "markdown",
   "id": "84c76b9c-6543-4b07-bcf1-d87d8d5c5252",
   "metadata": {},
   "source": [
    "# Pandas Lendo Arquivos .XLSX"
   ]
  },
  {
   "cell_type": "code",
   "execution_count": 3,
   "id": "31eea516-4f96-4d78-8ed7-2f54e2e6236c",
   "metadata": {
    "tags": []
   },
   "outputs": [
    {
     "name": "stdout",
     "output_type": "stream",
     "text": [
      "Versão da Linguagem Python Usada Neste Jupyter Notebook: 3.11.4\n"
     ]
    }
   ],
   "source": [
    "# Versão da Linguagem Python\n",
    "from platform import python_version\n",
    "print('Versão da Linguagem Python Usada Neste Jupyter Notebook:', python_version())"
   ]
  },
  {
   "cell_type": "code",
   "execution_count": 4,
   "id": "9843964b-2d08-4a88-83ab-a960e8651f4e",
   "metadata": {
    "tags": []
   },
   "outputs": [],
   "source": [
    "import pandas as pd\n",
    "#pd.set_option('mode.chained_assignment', None)"
   ]
  },
  {
   "cell_type": "code",
   "execution_count": 5,
   "id": "603e8544-dcdf-4460-8740-7461ecdc76d4",
   "metadata": {
    "tags": []
   },
   "outputs": [],
   "source": [
    "# Carregando arquivo xlsx usando Pandas \n",
    "dados = pd.read_excel('alunos.xlsx')"
   ]
  },
  {
   "cell_type": "code",
   "execution_count": 6,
   "id": "bdbefb17-5369-4f20-a68d-b35f44004081",
   "metadata": {},
   "outputs": [],
   "source": [
    "dados['IMC'] = dados['Pesos'] / ( dados['Alturas'] * dados['Alturas'] )"
   ]
  },
  {
   "cell_type": "code",
   "execution_count": 7,
   "id": "b8bc3aea-5e09-4870-96c3-1d700100eeca",
   "metadata": {},
   "outputs": [],
   "source": [
    "dados.to_excel('alunos_new.xlsx')"
   ]
  },
  {
   "cell_type": "markdown",
   "id": "3e726ae6-e5a5-4b86-9814-2984f4e71d95",
   "metadata": {},
   "source": [
    "# Atividade\n",
    "\n",
    "Após calcular o IMC, utilizando o resultado do mesmo, crie uma nova coluna chamada categoria, conforme as classificações relacionada abaixo:\n",
    "\n",
    "- Abaixo de 18,5: Abaixo do peso\n",
    "- 18,5 a 24,9: Peso saudável\n",
    "- 25,0 a 29,9: Sobrepeso\n",
    "- 30,0 a 34,9: Obesidade grau I\n",
    "- 35,0 a 39,9: Obesidade grau II\n",
    "- 40,0 ou mais: Obesidade grau III (obesidade mórbida)\n",
    "\n",
    "Criar tb um novo arquivo chamado categorias_IMC.xlsx\n",
    "\n",
    "Código .ipynb deve ser enviado ao email - marcelo.euzebio.batista@gmail.com até dia 9/9/2023 às 23:59\n",
    "\n",
    "Atenção >>>> em caso de código repetido ou com nível de semelhança acima de 90%, todos os códigos envolvidos receberão nota ZERO.\n",
    "\n",
    "Mãos a obra meu programador!"
   ]
  },
  {
   "cell_type": "code",
   "execution_count": 8,
   "id": "fe242746-f87e-489d-9780-c40caa01172a",
   "metadata": {},
   "outputs": [],
   "source": [
    "# Criar coluna vazia\n",
    "dados['categoria'] = ''"
   ]
  },
  {
   "cell_type": "code",
   "execution_count": 9,
   "id": "f4d44462-d22f-41d8-a0d5-38b856bb3692",
   "metadata": {},
   "outputs": [],
   "source": [
    "# Função que retorna o valor correspondente a categoria\n",
    "def categoria_imc(imc):\n",
    "    if imc < 18.5:\n",
    "        return \"Abaixo do peso\"\n",
    "    elif imc >= 18.5 and imc < 25.0:\n",
    "        return \"Peso saudável\"\n",
    "    elif imc > 24.9 and imc < 30.0:\n",
    "        return \"Sobrepeso\"\n",
    "    elif imc > 29.9 and imc < 35.0:\n",
    "        return \"Obesidade grau I\"\n",
    "    elif imc > 34.9 and imc < 40.0:\n",
    "        return \"Obesidade grau II\"\n",
    "    else:\n",
    "        return \"Obesidade grau III\""
   ]
  },
  {
   "cell_type": "code",
   "execution_count": 21,
   "id": "f9d055b6-8a65-42ec-aee0-c3305b9182b6",
   "metadata": {},
   "outputs": [
    {
     "data": {
      "text/plain": [
       "(29, 4)"
      ]
     },
     "execution_count": 21,
     "metadata": {},
     "output_type": "execute_result"
    }
   ],
   "source": [
    "dados.shape"
   ]
  },
  {
   "cell_type": "code",
   "execution_count": 22,
   "id": "4a647721-b4c5-4e20-9acf-b32305732620",
   "metadata": {},
   "outputs": [],
   "source": [
    "n = dados.shape[0]"
   ]
  },
  {
   "cell_type": "code",
   "execution_count": 23,
   "id": "0103b69c-58fa-4ba5-befe-07d53fa1731d",
   "metadata": {},
   "outputs": [
    {
     "data": {
      "text/plain": [
       "29"
      ]
     },
     "execution_count": 23,
     "metadata": {},
     "output_type": "execute_result"
    }
   ],
   "source": [
    "n"
   ]
  },
  {
   "cell_type": "code",
   "execution_count": 24,
   "id": "14a34874-9745-4a04-b5fb-d9f33aaf826d",
   "metadata": {},
   "outputs": [],
   "source": [
    "for i in range(n):\n",
    "    dados.at[i,'categoria'] = categoria_imc(dados.loc[i]['IMC'])\n",
    "\n",
    "    '''\n",
    "    print(dados.loc[i]['Alturas'])\n",
    "    print(dados.loc[i]['Pesos'])\n",
    "    print(dados.loc[i]['IMC'])\n",
    "    print(dados.loc[i]['categoria'])\n",
    "    print('-------------------------')\n",
    "    '''"
   ]
  },
  {
   "cell_type": "code",
   "execution_count": 60,
   "id": "6ff3f130-598b-485a-a56d-885dcdd18a6f",
   "metadata": {},
   "outputs": [
    {
     "data": {
      "text/html": [
       "<div>\n",
       "<style scoped>\n",
       "    .dataframe tbody tr th:only-of-type {\n",
       "        vertical-align: middle;\n",
       "    }\n",
       "\n",
       "    .dataframe tbody tr th {\n",
       "        vertical-align: top;\n",
       "    }\n",
       "\n",
       "    .dataframe thead th {\n",
       "        text-align: right;\n",
       "    }\n",
       "</style>\n",
       "<table border=\"1\" class=\"dataframe\">\n",
       "  <thead>\n",
       "    <tr style=\"text-align: right;\">\n",
       "      <th></th>\n",
       "      <th>Pesos</th>\n",
       "      <th>Alturas</th>\n",
       "      <th>IMC</th>\n",
       "      <th>categoria</th>\n",
       "    </tr>\n",
       "  </thead>\n",
       "  <tbody>\n",
       "    <tr>\n",
       "      <th>0</th>\n",
       "      <td>58</td>\n",
       "      <td>1.58</td>\n",
       "      <td>23.233456</td>\n",
       "      <td>Peso saudável</td>\n",
       "    </tr>\n",
       "    <tr>\n",
       "      <th>1</th>\n",
       "      <td>78</td>\n",
       "      <td>1.80</td>\n",
       "      <td>24.074074</td>\n",
       "      <td>Peso saudável</td>\n",
       "    </tr>\n",
       "    <tr>\n",
       "      <th>2</th>\n",
       "      <td>70</td>\n",
       "      <td>1.70</td>\n",
       "      <td>24.221453</td>\n",
       "      <td>Peso saudável</td>\n",
       "    </tr>\n",
       "    <tr>\n",
       "      <th>3</th>\n",
       "      <td>80</td>\n",
       "      <td>1.80</td>\n",
       "      <td>24.691358</td>\n",
       "      <td>Peso saudável</td>\n",
       "    </tr>\n",
       "    <tr>\n",
       "      <th>4</th>\n",
       "      <td>77</td>\n",
       "      <td>1.76</td>\n",
       "      <td>24.857955</td>\n",
       "      <td>Peso saudável</td>\n",
       "    </tr>\n",
       "    <tr>\n",
       "      <th>5</th>\n",
       "      <td>74</td>\n",
       "      <td>1.73</td>\n",
       "      <td>24.725183</td>\n",
       "      <td>Peso saudável</td>\n",
       "    </tr>\n",
       "    <tr>\n",
       "      <th>6</th>\n",
       "      <td>61</td>\n",
       "      <td>1.63</td>\n",
       "      <td>22.959088</td>\n",
       "      <td>Peso saudável</td>\n",
       "    </tr>\n",
       "    <tr>\n",
       "      <th>7</th>\n",
       "      <td>65</td>\n",
       "      <td>1.65</td>\n",
       "      <td>23.875115</td>\n",
       "      <td>Peso saudável</td>\n",
       "    </tr>\n",
       "    <tr>\n",
       "      <th>8</th>\n",
       "      <td>55</td>\n",
       "      <td>1.56</td>\n",
       "      <td>22.600263</td>\n",
       "      <td>Peso saudável</td>\n",
       "    </tr>\n",
       "    <tr>\n",
       "      <th>9</th>\n",
       "      <td>96</td>\n",
       "      <td>1.40</td>\n",
       "      <td>48.979592</td>\n",
       "      <td>Obesidade grau III</td>\n",
       "    </tr>\n",
       "    <tr>\n",
       "      <th>10</th>\n",
       "      <td>54</td>\n",
       "      <td>1.56</td>\n",
       "      <td>22.189349</td>\n",
       "      <td>Peso saudável</td>\n",
       "    </tr>\n",
       "    <tr>\n",
       "      <th>11</th>\n",
       "      <td>53</td>\n",
       "      <td>1.51</td>\n",
       "      <td>23.244595</td>\n",
       "      <td>Peso saudável</td>\n",
       "    </tr>\n",
       "    <tr>\n",
       "      <th>12</th>\n",
       "      <td>69</td>\n",
       "      <td>1.69</td>\n",
       "      <td>24.158818</td>\n",
       "      <td>Peso saudável</td>\n",
       "    </tr>\n",
       "    <tr>\n",
       "      <th>13</th>\n",
       "      <td>75</td>\n",
       "      <td>1.67</td>\n",
       "      <td>26.892323</td>\n",
       "      <td>Sobrepeso</td>\n",
       "    </tr>\n",
       "    <tr>\n",
       "      <th>14</th>\n",
       "      <td>72</td>\n",
       "      <td>1.74</td>\n",
       "      <td>23.781213</td>\n",
       "      <td>Peso saudável</td>\n",
       "    </tr>\n",
       "    <tr>\n",
       "      <th>15</th>\n",
       "      <td>58</td>\n",
       "      <td>1.60</td>\n",
       "      <td>22.656250</td>\n",
       "      <td>Peso saudável</td>\n",
       "    </tr>\n",
       "    <tr>\n",
       "      <th>16</th>\n",
       "      <td>53</td>\n",
       "      <td>1.52</td>\n",
       "      <td>22.939751</td>\n",
       "      <td>Peso saudável</td>\n",
       "    </tr>\n",
       "    <tr>\n",
       "      <th>17</th>\n",
       "      <td>155</td>\n",
       "      <td>1.57</td>\n",
       "      <td>62.882876</td>\n",
       "      <td>Obesidade grau III</td>\n",
       "    </tr>\n",
       "    <tr>\n",
       "      <th>18</th>\n",
       "      <td>57</td>\n",
       "      <td>1.57</td>\n",
       "      <td>23.124670</td>\n",
       "      <td>Peso saudável</td>\n",
       "    </tr>\n",
       "    <tr>\n",
       "      <th>19</th>\n",
       "      <td>66</td>\n",
       "      <td>1.67</td>\n",
       "      <td>23.665244</td>\n",
       "      <td>Peso saudável</td>\n",
       "    </tr>\n",
       "    <tr>\n",
       "      <th>20</th>\n",
       "      <td>65</td>\n",
       "      <td>1.64</td>\n",
       "      <td>24.167162</td>\n",
       "      <td>Peso saudável</td>\n",
       "    </tr>\n",
       "    <tr>\n",
       "      <th>21</th>\n",
       "      <td>50</td>\n",
       "      <td>1.50</td>\n",
       "      <td>22.222222</td>\n",
       "      <td>Peso saudável</td>\n",
       "    </tr>\n",
       "    <tr>\n",
       "      <th>22</th>\n",
       "      <td>63</td>\n",
       "      <td>1.64</td>\n",
       "      <td>23.423557</td>\n",
       "      <td>Peso saudável</td>\n",
       "    </tr>\n",
       "    <tr>\n",
       "      <th>23</th>\n",
       "      <td>58</td>\n",
       "      <td>1.56</td>\n",
       "      <td>23.833005</td>\n",
       "      <td>Peso saudável</td>\n",
       "    </tr>\n",
       "    <tr>\n",
       "      <th>24</th>\n",
       "      <td>75</td>\n",
       "      <td>1.56</td>\n",
       "      <td>30.818540</td>\n",
       "      <td>Obesidade grau I</td>\n",
       "    </tr>\n",
       "    <tr>\n",
       "      <th>25</th>\n",
       "      <td>63</td>\n",
       "      <td>1.62</td>\n",
       "      <td>24.005487</td>\n",
       "      <td>Peso saudável</td>\n",
       "    </tr>\n",
       "    <tr>\n",
       "      <th>26</th>\n",
       "      <td>73</td>\n",
       "      <td>1.71</td>\n",
       "      <td>24.964946</td>\n",
       "      <td>Peso saudável</td>\n",
       "    </tr>\n",
       "    <tr>\n",
       "      <th>27</th>\n",
       "      <td>80</td>\n",
       "      <td>1.01</td>\n",
       "      <td>78.423684</td>\n",
       "      <td>Obesidade grau III</td>\n",
       "    </tr>\n",
       "    <tr>\n",
       "      <th>28</th>\n",
       "      <td>76</td>\n",
       "      <td>1.76</td>\n",
       "      <td>24.535124</td>\n",
       "      <td>Peso saudável</td>\n",
       "    </tr>\n",
       "  </tbody>\n",
       "</table>\n",
       "</div>"
      ],
      "text/plain": [
       "    Pesos  Alturas        IMC           categoria\n",
       "0      58     1.58  23.233456       Peso saudável\n",
       "1      78     1.80  24.074074       Peso saudável\n",
       "2      70     1.70  24.221453       Peso saudável\n",
       "3      80     1.80  24.691358       Peso saudável\n",
       "4      77     1.76  24.857955       Peso saudável\n",
       "5      74     1.73  24.725183       Peso saudável\n",
       "6      61     1.63  22.959088       Peso saudável\n",
       "7      65     1.65  23.875115       Peso saudável\n",
       "8      55     1.56  22.600263       Peso saudável\n",
       "9      96     1.40  48.979592  Obesidade grau III\n",
       "10     54     1.56  22.189349       Peso saudável\n",
       "11     53     1.51  23.244595       Peso saudável\n",
       "12     69     1.69  24.158818       Peso saudável\n",
       "13     75     1.67  26.892323           Sobrepeso\n",
       "14     72     1.74  23.781213       Peso saudável\n",
       "15     58     1.60  22.656250       Peso saudável\n",
       "16     53     1.52  22.939751       Peso saudável\n",
       "17    155     1.57  62.882876  Obesidade grau III\n",
       "18     57     1.57  23.124670       Peso saudável\n",
       "19     66     1.67  23.665244       Peso saudável\n",
       "20     65     1.64  24.167162       Peso saudável\n",
       "21     50     1.50  22.222222       Peso saudável\n",
       "22     63     1.64  23.423557       Peso saudável\n",
       "23     58     1.56  23.833005       Peso saudável\n",
       "24     75     1.56  30.818540    Obesidade grau I\n",
       "25     63     1.62  24.005487       Peso saudável\n",
       "26     73     1.71  24.964946       Peso saudável\n",
       "27     80     1.01  78.423684  Obesidade grau III\n",
       "28     76     1.76  24.535124       Peso saudável"
      ]
     },
     "execution_count": 60,
     "metadata": {},
     "output_type": "execute_result"
    }
   ],
   "source": [
    "dados"
   ]
  },
  {
   "cell_type": "code",
   "execution_count": 25,
   "id": "ffacb56d-ed73-4212-8730-fe07aa2fb86e",
   "metadata": {},
   "outputs": [],
   "source": [
    "dados.to_excel('alunos_categoria.xlsx', index=False)"
   ]
  },
  {
   "cell_type": "code",
   "execution_count": null,
   "id": "8aedfb0c-2092-413f-9d76-f9336cd38226",
   "metadata": {},
   "outputs": [],
   "source": []
  }
 ],
 "metadata": {
  "kernelspec": {
   "display_name": "Python 3 (ipykernel)",
   "language": "python",
   "name": "python3"
  },
  "language_info": {
   "codemirror_mode": {
    "name": "ipython",
    "version": 3
   },
   "file_extension": ".py",
   "mimetype": "text/x-python",
   "name": "python",
   "nbconvert_exporter": "python",
   "pygments_lexer": "ipython3",
   "version": "3.11.5"
  },
  "toc-autonumbering": false
 },
 "nbformat": 4,
 "nbformat_minor": 5
}
