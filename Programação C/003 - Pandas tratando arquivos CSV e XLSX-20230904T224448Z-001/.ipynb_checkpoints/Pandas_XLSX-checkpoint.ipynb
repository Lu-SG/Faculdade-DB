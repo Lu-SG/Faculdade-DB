{
 "cells": [
  {
   "cell_type": "markdown",
   "id": "84c76b9c-6543-4b07-bcf1-d87d8d5c5252",
   "metadata": {},
   "source": [
    "# Pandas Lendo Arquivos .XLSX"
   ]
  },
  {
   "cell_type": "code",
   "execution_count": 101,
   "id": "31eea516-4f96-4d78-8ed7-2f54e2e6236c",
   "metadata": {
    "tags": []
   },
   "outputs": [
    {
     "name": "stdout",
     "output_type": "stream",
     "text": [
      "Versão da Linguagem Python Usada Neste Jupyter Notebook: 3.11.4\n"
     ]
    }
   ],
   "source": [
    "# Versão da Linguagem Python\n",
    "from platform import python_version\n",
    "print('Versão da Linguagem Python Usada Neste Jupyter Notebook:', python_version())"
   ]
  },
  {
   "cell_type": "code",
   "execution_count": 102,
   "id": "9843964b-2d08-4a88-83ab-a960e8651f4e",
   "metadata": {
    "tags": []
   },
   "outputs": [],
   "source": [
    "import pandas as pd"
   ]
  },
  {
   "cell_type": "markdown",
   "id": "4c23aa01-d7f8-4d8c-a968-a6304681449b",
   "metadata": {
    "tags": []
   },
   "source": [
    "### Carregando arquivo XLSX"
   ]
  },
  {
   "cell_type": "code",
   "execution_count": 103,
   "id": "603e8544-dcdf-4460-8740-7461ecdc76d4",
   "metadata": {
    "tags": []
   },
   "outputs": [],
   "source": [
    "# Carregando arquivo xlsx usando Pandas \n",
    "dados = pd.read_excel('alunos.xlsx')"
   ]
  },
  {
   "cell_type": "code",
   "execution_count": 104,
   "id": "7e32fe52-d246-4a3f-bc30-5978f0b148c9",
   "metadata": {
    "tags": []
   },
   "outputs": [
    {
     "data": {
      "text/plain": [
       "(29, 2)"
      ]
     },
     "execution_count": 104,
     "metadata": {},
     "output_type": "execute_result"
    }
   ],
   "source": [
    "# Visualizando as dimensões\n",
    "dados.shape"
   ]
  },
  {
   "cell_type": "code",
   "execution_count": 105,
   "id": "6d213c22-bbbb-44f5-b59b-26d0b8ea73a3",
   "metadata": {
    "tags": []
   },
   "outputs": [
    {
     "data": {
      "text/plain": [
       "Pesos        int64\n",
       "Alturas    float64\n",
       "dtype: object"
      ]
     },
     "execution_count": 105,
     "metadata": {},
     "output_type": "execute_result"
    }
   ],
   "source": [
    "# Tipo de dados de cada atributo\n",
    "dados.dtypes"
   ]
  },
  {
   "cell_type": "code",
   "execution_count": 106,
   "id": "18d03f7e-6e4a-4b4f-8e4d-5a33be6c7009",
   "metadata": {
    "tags": []
   },
   "outputs": [
    {
     "name": "stdout",
     "output_type": "stream",
     "text": [
      "<class 'pandas.core.frame.DataFrame'>\n",
      "RangeIndex: 29 entries, 0 to 28\n",
      "Data columns (total 2 columns):\n",
      " #   Column   Non-Null Count  Dtype  \n",
      "---  ------   --------------  -----  \n",
      " 0   Pesos    29 non-null     int64  \n",
      " 1   Alturas  29 non-null     float64\n",
      "dtypes: float64(1), int64(1)\n",
      "memory usage: 596.0 bytes\n"
     ]
    }
   ],
   "source": [
    "dados.info()"
   ]
  },
  {
   "cell_type": "code",
   "execution_count": 107,
   "id": "58d3371d-7008-4a67-bde8-931058819ff2",
   "metadata": {
    "tags": []
   },
   "outputs": [],
   "source": [
    "# converter em Float\n",
    "dados['Alturas'] = dados['Alturas'].astype(float)"
   ]
  },
  {
   "cell_type": "markdown",
   "id": "b639c0e1-4d46-4841-94de-12a8865ad2b7",
   "metadata": {},
   "source": [
    "# Como criar uma nova coluna derivada de colunas existentes "
   ]
  },
  {
   "cell_type": "markdown",
   "id": "ed6d6167-d82e-4d5c-b1c1-5bf06e733082",
   "metadata": {},
   "source": [
    "Nova coluna com o Índice de Massa Corporal (IMC)\n",
    "\n",
    "onde: \n",
    "\n",
    "IMC = Peso dividido por altura ao quadrado."
   ]
  },
  {
   "cell_type": "code",
   "execution_count": 108,
   "id": "bdbefb17-5369-4f20-a68d-b35f44004081",
   "metadata": {},
   "outputs": [],
   "source": [
    "dados['IMC'] = dados['Pesos'] / ( dados['Alturas'] * dados['Alturas'] )"
   ]
  },
  {
   "cell_type": "code",
   "execution_count": 109,
   "id": "18e2c747-14c1-406a-8d56-4937f48837d8",
   "metadata": {},
   "outputs": [
    {
     "data": {
      "text/html": [
       "<div>\n",
       "<style scoped>\n",
       "    .dataframe tbody tr th:only-of-type {\n",
       "        vertical-align: middle;\n",
       "    }\n",
       "\n",
       "    .dataframe tbody tr th {\n",
       "        vertical-align: top;\n",
       "    }\n",
       "\n",
       "    .dataframe thead th {\n",
       "        text-align: right;\n",
       "    }\n",
       "</style>\n",
       "<table border=\"1\" class=\"dataframe\">\n",
       "  <thead>\n",
       "    <tr style=\"text-align: right;\">\n",
       "      <th></th>\n",
       "      <th>Pesos</th>\n",
       "      <th>Alturas</th>\n",
       "      <th>IMC</th>\n",
       "    </tr>\n",
       "  </thead>\n",
       "  <tbody>\n",
       "    <tr>\n",
       "      <th>0</th>\n",
       "      <td>58</td>\n",
       "      <td>1.58</td>\n",
       "      <td>23.233456</td>\n",
       "    </tr>\n",
       "    <tr>\n",
       "      <th>1</th>\n",
       "      <td>78</td>\n",
       "      <td>1.80</td>\n",
       "      <td>24.074074</td>\n",
       "    </tr>\n",
       "    <tr>\n",
       "      <th>2</th>\n",
       "      <td>70</td>\n",
       "      <td>1.70</td>\n",
       "      <td>24.221453</td>\n",
       "    </tr>\n",
       "    <tr>\n",
       "      <th>3</th>\n",
       "      <td>80</td>\n",
       "      <td>1.80</td>\n",
       "      <td>24.691358</td>\n",
       "    </tr>\n",
       "    <tr>\n",
       "      <th>4</th>\n",
       "      <td>77</td>\n",
       "      <td>1.76</td>\n",
       "      <td>24.857955</td>\n",
       "    </tr>\n",
       "    <tr>\n",
       "      <th>5</th>\n",
       "      <td>74</td>\n",
       "      <td>1.73</td>\n",
       "      <td>24.725183</td>\n",
       "    </tr>\n",
       "    <tr>\n",
       "      <th>6</th>\n",
       "      <td>61</td>\n",
       "      <td>1.63</td>\n",
       "      <td>22.959088</td>\n",
       "    </tr>\n",
       "    <tr>\n",
       "      <th>7</th>\n",
       "      <td>65</td>\n",
       "      <td>1.65</td>\n",
       "      <td>23.875115</td>\n",
       "    </tr>\n",
       "    <tr>\n",
       "      <th>8</th>\n",
       "      <td>55</td>\n",
       "      <td>1.56</td>\n",
       "      <td>22.600263</td>\n",
       "    </tr>\n",
       "    <tr>\n",
       "      <th>9</th>\n",
       "      <td>96</td>\n",
       "      <td>1.40</td>\n",
       "      <td>48.979592</td>\n",
       "    </tr>\n",
       "    <tr>\n",
       "      <th>10</th>\n",
       "      <td>54</td>\n",
       "      <td>1.56</td>\n",
       "      <td>22.189349</td>\n",
       "    </tr>\n",
       "    <tr>\n",
       "      <th>11</th>\n",
       "      <td>53</td>\n",
       "      <td>1.51</td>\n",
       "      <td>23.244595</td>\n",
       "    </tr>\n",
       "    <tr>\n",
       "      <th>12</th>\n",
       "      <td>69</td>\n",
       "      <td>1.69</td>\n",
       "      <td>24.158818</td>\n",
       "    </tr>\n",
       "    <tr>\n",
       "      <th>13</th>\n",
       "      <td>75</td>\n",
       "      <td>1.67</td>\n",
       "      <td>26.892323</td>\n",
       "    </tr>\n",
       "    <tr>\n",
       "      <th>14</th>\n",
       "      <td>72</td>\n",
       "      <td>1.74</td>\n",
       "      <td>23.781213</td>\n",
       "    </tr>\n",
       "    <tr>\n",
       "      <th>15</th>\n",
       "      <td>58</td>\n",
       "      <td>1.60</td>\n",
       "      <td>22.656250</td>\n",
       "    </tr>\n",
       "    <tr>\n",
       "      <th>16</th>\n",
       "      <td>53</td>\n",
       "      <td>1.52</td>\n",
       "      <td>22.939751</td>\n",
       "    </tr>\n",
       "    <tr>\n",
       "      <th>17</th>\n",
       "      <td>155</td>\n",
       "      <td>1.57</td>\n",
       "      <td>62.882876</td>\n",
       "    </tr>\n",
       "    <tr>\n",
       "      <th>18</th>\n",
       "      <td>57</td>\n",
       "      <td>1.57</td>\n",
       "      <td>23.124670</td>\n",
       "    </tr>\n",
       "    <tr>\n",
       "      <th>19</th>\n",
       "      <td>66</td>\n",
       "      <td>1.67</td>\n",
       "      <td>23.665244</td>\n",
       "    </tr>\n",
       "    <tr>\n",
       "      <th>20</th>\n",
       "      <td>65</td>\n",
       "      <td>1.64</td>\n",
       "      <td>24.167162</td>\n",
       "    </tr>\n",
       "    <tr>\n",
       "      <th>21</th>\n",
       "      <td>50</td>\n",
       "      <td>1.50</td>\n",
       "      <td>22.222222</td>\n",
       "    </tr>\n",
       "    <tr>\n",
       "      <th>22</th>\n",
       "      <td>63</td>\n",
       "      <td>1.64</td>\n",
       "      <td>23.423557</td>\n",
       "    </tr>\n",
       "    <tr>\n",
       "      <th>23</th>\n",
       "      <td>58</td>\n",
       "      <td>1.56</td>\n",
       "      <td>23.833005</td>\n",
       "    </tr>\n",
       "    <tr>\n",
       "      <th>24</th>\n",
       "      <td>75</td>\n",
       "      <td>1.56</td>\n",
       "      <td>30.818540</td>\n",
       "    </tr>\n",
       "    <tr>\n",
       "      <th>25</th>\n",
       "      <td>63</td>\n",
       "      <td>1.62</td>\n",
       "      <td>24.005487</td>\n",
       "    </tr>\n",
       "    <tr>\n",
       "      <th>26</th>\n",
       "      <td>73</td>\n",
       "      <td>1.71</td>\n",
       "      <td>24.964946</td>\n",
       "    </tr>\n",
       "    <tr>\n",
       "      <th>27</th>\n",
       "      <td>80</td>\n",
       "      <td>1.01</td>\n",
       "      <td>78.423684</td>\n",
       "    </tr>\n",
       "    <tr>\n",
       "      <th>28</th>\n",
       "      <td>76</td>\n",
       "      <td>1.76</td>\n",
       "      <td>24.535124</td>\n",
       "    </tr>\n",
       "  </tbody>\n",
       "</table>\n",
       "</div>"
      ],
      "text/plain": [
       "    Pesos  Alturas        IMC\n",
       "0      58     1.58  23.233456\n",
       "1      78     1.80  24.074074\n",
       "2      70     1.70  24.221453\n",
       "3      80     1.80  24.691358\n",
       "4      77     1.76  24.857955\n",
       "5      74     1.73  24.725183\n",
       "6      61     1.63  22.959088\n",
       "7      65     1.65  23.875115\n",
       "8      55     1.56  22.600263\n",
       "9      96     1.40  48.979592\n",
       "10     54     1.56  22.189349\n",
       "11     53     1.51  23.244595\n",
       "12     69     1.69  24.158818\n",
       "13     75     1.67  26.892323\n",
       "14     72     1.74  23.781213\n",
       "15     58     1.60  22.656250\n",
       "16     53     1.52  22.939751\n",
       "17    155     1.57  62.882876\n",
       "18     57     1.57  23.124670\n",
       "19     66     1.67  23.665244\n",
       "20     65     1.64  24.167162\n",
       "21     50     1.50  22.222222\n",
       "22     63     1.64  23.423557\n",
       "23     58     1.56  23.833005\n",
       "24     75     1.56  30.818540\n",
       "25     63     1.62  24.005487\n",
       "26     73     1.71  24.964946\n",
       "27     80     1.01  78.423684\n",
       "28     76     1.76  24.535124"
      ]
     },
     "execution_count": 109,
     "metadata": {},
     "output_type": "execute_result"
    }
   ],
   "source": [
    "dados"
   ]
  },
  {
   "cell_type": "code",
   "execution_count": 110,
   "id": "b8bc3aea-5e09-4870-96c3-1d700100eeca",
   "metadata": {},
   "outputs": [],
   "source": [
    "dados.to_excel('alunos_new.xlsx')"
   ]
  },
  {
   "cell_type": "markdown",
   "id": "3e726ae6-e5a5-4b86-9814-2984f4e71d95",
   "metadata": {},
   "source": [
    "# Atividade\n",
    "\n",
    "Após calcular o IMC, utilizando o resultado do mesmo, crie uma nova coluna chamada categoria, conforme as classificações relacionada abaixo:\n",
    "\n",
    "- Abaixo de 18,5: Abaixo do peso\n",
    "- 18,5 a 24,9: Peso saudável\n",
    "- 25,0 a 29,9: Sobrepeso\n",
    "- 30,0 a 34,9: Obesidade grau I\n",
    "- 35,0 a 39,9: Obesidade grau II\n",
    "- 40,0 ou mais: Obesidade grau III (obesidade mórbida)\n",
    "\n",
    "Criar tb um novo arquivo chamado categorias_IMC.xlsx\n",
    "\n",
    "Código .ipynb deve ser enviado ao email - marcelo.euzebio.batista@gmail.com até dia 9/9/2023 às 23:59\n",
    "\n",
    "Atenção >>>> em caso de código repetido ou com nível de semelhança acima de 90%, todos os códigos envolvidos receberão nota ZERO.\n",
    "\n",
    "Mãos a obra meu programador!"
   ]
  },
  {
   "cell_type": "code",
   "execution_count": null,
   "id": "14a34874-9745-4a04-b5fb-d9f33aaf826d",
   "metadata": {},
   "outputs": [],
   "source": []
  }
 ],
 "metadata": {
  "kernelspec": {
   "display_name": "Python 3 (ipykernel)",
   "language": "python",
   "name": "python3"
  },
  "language_info": {
   "codemirror_mode": {
    "name": "ipython",
    "version": 3
   },
   "file_extension": ".py",
   "mimetype": "text/x-python",
   "name": "python",
   "nbconvert_exporter": "python",
   "pygments_lexer": "ipython3",
   "version": "3.11.4"
  },
  "toc-autonumbering": false
 },
 "nbformat": 4,
 "nbformat_minor": 5
}
