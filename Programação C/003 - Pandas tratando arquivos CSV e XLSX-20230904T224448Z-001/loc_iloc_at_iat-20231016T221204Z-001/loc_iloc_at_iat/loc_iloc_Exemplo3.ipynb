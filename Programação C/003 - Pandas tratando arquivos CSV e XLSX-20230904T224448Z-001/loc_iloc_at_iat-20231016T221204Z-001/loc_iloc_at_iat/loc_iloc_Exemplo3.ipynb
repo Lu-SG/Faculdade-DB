{
 "cells": [
  {
   "cell_type": "raw",
   "id": "0cbb474d-6492-45d7-a474-6c86c567609e",
   "metadata": {},
   "source": [
    "Em pandas, loc, iloc, at e iat são usados ​​para selecionar e acessar dados de um DataFrame.\n",
    "\n",
    "Eles fornecem diferentes maneiras de indexar e recuperar dados de suas estruturas de dados.\n",
    "\n",
    "---------------------------------------------------\n",
    "loc: Indexação baseada em rótulo\n",
    "\n",
    "df.loc[row_label, column_label] \n",
    "\n",
    "é usado para acessar dados especificando rótulos de linhas e colunas. Inclui os limites de início e parada.\n",
    "\n",
    "Exemplo:df.loc[2, 'Column_Name']\n",
    "\n",
    "---------------------------------------------------\n",
    "iloc: Indexação baseada em números inteiros\n",
    "\n",
    "df.iloc[row_index, column_index]\n",
    "\n",
    "é usado para acessar dados especificando índices de linhas e colunas. Ele usa posições inteiras baseadas em zero.\n",
    "\n",
    "Exemplo:df.iloc[0, 2]\n",
    "\n",
    "---------------------------------------------------\n",
    "at: Acesso escalar rápido usando rótulo\n",
    "\n",
    "df.at[row_label, column_label] \n",
    "\n",
    "é usado para acessar um único elemento em um DataFrame especificando rótulos de linha e coluna. É mais rápido do que loc acessar valores únicos.\n",
    "\n",
    "Exemplo:df.at[2, 'Column_Name']\n",
    "\n",
    "---------------------------------------------------\n",
    "iat: Acesso escalar rápido usando número inteiro\n",
    "\n",
    "df.iat[row_index, column_index]\n",
    "\n",
    "é semelhante, atmas usa posições inteiras. É mais rápido do que iloc acessar valores únicos.\n",
    "\n",
    "Exemplo:df.iat[0, 2]"
   ]
  },
  {
   "cell_type": "code",
   "execution_count": 2,
   "id": "8a4f21f1-9407-4c34-9402-8993b2a2b79b",
   "metadata": {},
   "outputs": [],
   "source": [
    "import pandas as pd\n",
    "\n",
    "data = {'A': [1, 2, 3],\n",
    "        'B': [4, 5, 6],\n",
    "        'C': [7, 8, 9]}\n",
    "\n",
    "df = pd.DataFrame(data, index=['X', 'Y', 'Z'])"
   ]
  },
  {
   "cell_type": "code",
   "execution_count": 3,
   "id": "f42ad1d3-76be-4177-8d3f-0759ddc816ca",
   "metadata": {},
   "outputs": [
    {
     "data": {
      "text/html": [
       "<div>\n",
       "<style scoped>\n",
       "    .dataframe tbody tr th:only-of-type {\n",
       "        vertical-align: middle;\n",
       "    }\n",
       "\n",
       "    .dataframe tbody tr th {\n",
       "        vertical-align: top;\n",
       "    }\n",
       "\n",
       "    .dataframe thead th {\n",
       "        text-align: right;\n",
       "    }\n",
       "</style>\n",
       "<table border=\"1\" class=\"dataframe\">\n",
       "  <thead>\n",
       "    <tr style=\"text-align: right;\">\n",
       "      <th></th>\n",
       "      <th>A</th>\n",
       "      <th>B</th>\n",
       "      <th>C</th>\n",
       "    </tr>\n",
       "  </thead>\n",
       "  <tbody>\n",
       "    <tr>\n",
       "      <th>X</th>\n",
       "      <td>1</td>\n",
       "      <td>4</td>\n",
       "      <td>7</td>\n",
       "    </tr>\n",
       "    <tr>\n",
       "      <th>Y</th>\n",
       "      <td>2</td>\n",
       "      <td>5</td>\n",
       "      <td>8</td>\n",
       "    </tr>\n",
       "    <tr>\n",
       "      <th>Z</th>\n",
       "      <td>3</td>\n",
       "      <td>6</td>\n",
       "      <td>9</td>\n",
       "    </tr>\n",
       "  </tbody>\n",
       "</table>\n",
       "</div>"
      ],
      "text/plain": [
       "   A  B  C\n",
       "X  1  4  7\n",
       "Y  2  5  8\n",
       "Z  3  6  9"
      ]
     },
     "execution_count": 3,
     "metadata": {},
     "output_type": "execute_result"
    }
   ],
   "source": [
    "df"
   ]
  },
  {
   "cell_type": "code",
   "execution_count": 4,
   "id": "7f117494-4de2-4b45-805f-e74f48fea75b",
   "metadata": {},
   "outputs": [],
   "source": [
    "# Using loc\n",
    "value_loc = df.loc['Y', 'B']"
   ]
  },
  {
   "cell_type": "code",
   "execution_count": 5,
   "id": "7f370ef0-6cc0-48db-8587-b942e6a5fdef",
   "metadata": {},
   "outputs": [
    {
     "data": {
      "text/plain": [
       "5"
      ]
     },
     "execution_count": 5,
     "metadata": {},
     "output_type": "execute_result"
    }
   ],
   "source": [
    "value_loc"
   ]
  },
  {
   "cell_type": "code",
   "execution_count": 7,
   "id": "13afaf7f-53c2-4f53-870f-2189ea9ef10e",
   "metadata": {},
   "outputs": [],
   "source": [
    "# Using iloc\n",
    "value_iloc = df.iloc[1, 1]"
   ]
  },
  {
   "cell_type": "code",
   "execution_count": 8,
   "id": "a21eaf85-7f67-4118-ad50-bf76c56d97f0",
   "metadata": {},
   "outputs": [
    {
     "data": {
      "text/plain": [
       "5"
      ]
     },
     "execution_count": 8,
     "metadata": {},
     "output_type": "execute_result"
    }
   ],
   "source": [
    "value_iloc"
   ]
  },
  {
   "cell_type": "code",
   "execution_count": 9,
   "id": "ca8fb59b-b698-4381-a97a-42c344255f30",
   "metadata": {},
   "outputs": [],
   "source": [
    "df.at['Y', 'B'] = 6"
   ]
  },
  {
   "cell_type": "code",
   "execution_count": 10,
   "id": "54bb56e7-2e80-4155-b59f-f696387eb827",
   "metadata": {},
   "outputs": [],
   "source": [
    "# Using at\n",
    "value_at = df.at['Y', 'B']"
   ]
  },
  {
   "cell_type": "code",
   "execution_count": 11,
   "id": "2656b9d9-3fe6-4d25-927b-cdb4432cd169",
   "metadata": {},
   "outputs": [
    {
     "data": {
      "text/plain": [
       "6"
      ]
     },
     "execution_count": 11,
     "metadata": {},
     "output_type": "execute_result"
    }
   ],
   "source": [
    "value_at"
   ]
  },
  {
   "cell_type": "code",
   "execution_count": 12,
   "id": "bd5a1505-f867-4726-8fe8-436834e6bb2b",
   "metadata": {},
   "outputs": [],
   "source": [
    "df.iat[1, 1] = 7"
   ]
  },
  {
   "cell_type": "code",
   "execution_count": 13,
   "id": "3bc3e130-a8c3-406c-8a12-07d9fec39279",
   "metadata": {},
   "outputs": [],
   "source": [
    "# Using iat\n",
    "value_iat = df.iat[1, 1]"
   ]
  },
  {
   "cell_type": "code",
   "execution_count": 14,
   "id": "3e4539a8-3ad7-4c31-9927-879983a4a15f",
   "metadata": {},
   "outputs": [
    {
     "data": {
      "text/plain": [
       "7"
      ]
     },
     "execution_count": 14,
     "metadata": {},
     "output_type": "execute_result"
    }
   ],
   "source": [
    "value_iat"
   ]
  },
  {
   "cell_type": "code",
   "execution_count": 15,
   "id": "7094e389-c844-43d9-b662-15eab27ef526",
   "metadata": {},
   "outputs": [
    {
     "data": {
      "text/html": [
       "<div>\n",
       "<style scoped>\n",
       "    .dataframe tbody tr th:only-of-type {\n",
       "        vertical-align: middle;\n",
       "    }\n",
       "\n",
       "    .dataframe tbody tr th {\n",
       "        vertical-align: top;\n",
       "    }\n",
       "\n",
       "    .dataframe thead th {\n",
       "        text-align: right;\n",
       "    }\n",
       "</style>\n",
       "<table border=\"1\" class=\"dataframe\">\n",
       "  <thead>\n",
       "    <tr style=\"text-align: right;\">\n",
       "      <th></th>\n",
       "      <th>A</th>\n",
       "      <th>B</th>\n",
       "      <th>C</th>\n",
       "    </tr>\n",
       "  </thead>\n",
       "  <tbody>\n",
       "    <tr>\n",
       "      <th>X</th>\n",
       "      <td>1</td>\n",
       "      <td>4</td>\n",
       "      <td>7</td>\n",
       "    </tr>\n",
       "    <tr>\n",
       "      <th>Y</th>\n",
       "      <td>2</td>\n",
       "      <td>7</td>\n",
       "      <td>8</td>\n",
       "    </tr>\n",
       "    <tr>\n",
       "      <th>Z</th>\n",
       "      <td>3</td>\n",
       "      <td>6</td>\n",
       "      <td>9</td>\n",
       "    </tr>\n",
       "  </tbody>\n",
       "</table>\n",
       "</div>"
      ],
      "text/plain": [
       "   A  B  C\n",
       "X  1  4  7\n",
       "Y  2  7  8\n",
       "Z  3  6  9"
      ]
     },
     "execution_count": 15,
     "metadata": {},
     "output_type": "execute_result"
    }
   ],
   "source": [
    "df"
   ]
  },
  {
   "cell_type": "code",
   "execution_count": null,
   "id": "4f8e54b4-4a90-4c07-a880-79c327a7af54",
   "metadata": {},
   "outputs": [],
   "source": []
  }
 ],
 "metadata": {
  "kernelspec": {
   "display_name": "Python 3 (ipykernel)",
   "language": "python",
   "name": "python3"
  },
  "language_info": {
   "codemirror_mode": {
    "name": "ipython",
    "version": 3
   },
   "file_extension": ".py",
   "mimetype": "text/x-python",
   "name": "python",
   "nbconvert_exporter": "python",
   "pygments_lexer": "ipython3",
   "version": "3.11.5"
  }
 },
 "nbformat": 4,
 "nbformat_minor": 5
}
