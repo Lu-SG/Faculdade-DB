{
 "cells": [
  {
   "cell_type": "markdown",
   "id": "84c76b9c-6543-4b07-bcf1-d87d8d5c5252",
   "metadata": {},
   "source": [
    "# Pandas Lendo Arquivos .CSV"
   ]
  },
  {
   "cell_type": "markdown",
   "id": "b673c6d5-850a-4b0a-9f63-5d059e984edb",
   "metadata": {},
   "source": [
    "Pandas é uma biblioteca Python popular para manipulação e análise de dados. Ele fornece estruturas de dados e funções para trabalhar com dados estruturados."
   ]
  },
  {
   "cell_type": "code",
   "execution_count": 26,
   "id": "31eea516-4f96-4d78-8ed7-2f54e2e6236c",
   "metadata": {
    "tags": []
   },
   "outputs": [
    {
     "name": "stdout",
     "output_type": "stream",
     "text": [
      "Versão da Linguagem Python Usada Neste Jupyter Notebook: 3.11.4\n"
     ]
    }
   ],
   "source": [
    "# Versão da Linguagem Python\n",
    "from platform import python_version\n",
    "print('Versão da Linguagem Python Usada Neste Jupyter Notebook:', python_version())"
   ]
  },
  {
   "cell_type": "code",
   "execution_count": 27,
   "id": "9843964b-2d08-4a88-83ab-a960e8651f4e",
   "metadata": {
    "tags": []
   },
   "outputs": [],
   "source": [
    "import pandas as pd"
   ]
  },
  {
   "cell_type": "markdown",
   "id": "4c23aa01-d7f8-4d8c-a968-a6304681449b",
   "metadata": {
    "tags": []
   },
   "source": [
    "### Carregando arquivo CSV"
   ]
  },
  {
   "cell_type": "code",
   "execution_count": 28,
   "id": "603e8544-dcdf-4460-8740-7461ecdc76d4",
   "metadata": {
    "tags": []
   },
   "outputs": [],
   "source": [
    "# Carregando arquivo csv usando Pandas (método que usaremos neste notebook)\n",
    "dados = pd.read_csv('alunos.csv',decimal=',')"
   ]
  },
  {
   "cell_type": "code",
   "execution_count": 29,
   "id": "7e32fe52-d246-4a3f-bc30-5978f0b148c9",
   "metadata": {
    "tags": []
   },
   "outputs": [
    {
     "data": {
      "text/plain": [
       "(29, 2)"
      ]
     },
     "execution_count": 29,
     "metadata": {},
     "output_type": "execute_result"
    }
   ],
   "source": [
    "# Visualizando as dimensões\n",
    "dados.shape"
   ]
  },
  {
   "cell_type": "code",
   "execution_count": 30,
   "id": "6d213c22-bbbb-44f5-b59b-26d0b8ea73a3",
   "metadata": {
    "tags": []
   },
   "outputs": [
    {
     "data": {
      "text/plain": [
       "Pesos       int64\n",
       "Alturas    object\n",
       "dtype: object"
      ]
     },
     "execution_count": 30,
     "metadata": {},
     "output_type": "execute_result"
    }
   ],
   "source": [
    "# Tipo de dados de cada atributo\n",
    "dados.dtypes"
   ]
  },
  {
   "cell_type": "code",
   "execution_count": 31,
   "id": "18d03f7e-6e4a-4b4f-8e4d-5a33be6c7009",
   "metadata": {
    "tags": []
   },
   "outputs": [
    {
     "name": "stdout",
     "output_type": "stream",
     "text": [
      "<class 'pandas.core.frame.DataFrame'>\n",
      "RangeIndex: 29 entries, 0 to 28\n",
      "Data columns (total 2 columns):\n",
      " #   Column   Non-Null Count  Dtype \n",
      "---  ------   --------------  ----- \n",
      " 0   Pesos    29 non-null     int64 \n",
      " 1   Alturas  29 non-null     object\n",
      "dtypes: int64(1), object(1)\n",
      "memory usage: 596.0+ bytes\n"
     ]
    }
   ],
   "source": [
    "dados.info()"
   ]
  },
  {
   "cell_type": "code",
   "execution_count": 32,
   "id": "58d3371d-7008-4a67-bde8-931058819ff2",
   "metadata": {
    "tags": []
   },
   "outputs": [],
   "source": [
    "# converter em Float\n",
    "dados['Alturas'] = dados['Alturas'].astype(float)"
   ]
  },
  {
   "cell_type": "code",
   "execution_count": 33,
   "id": "d9e35cfe-d0c5-4d36-929c-429493ed8ad8",
   "metadata": {
    "tags": []
   },
   "outputs": [
    {
     "data": {
      "text/plain": [
       "Pesos        int64\n",
       "Alturas    float64\n",
       "dtype: object"
      ]
     },
     "execution_count": 33,
     "metadata": {},
     "output_type": "execute_result"
    }
   ],
   "source": [
    "# Tipo de dados de cada atributo\n",
    "dados.dtypes"
   ]
  },
  {
   "cell_type": "code",
   "execution_count": 35,
   "id": "e4390c48-98b2-4742-a403-a3e52163dbcd",
   "metadata": {
    "tags": []
   },
   "outputs": [
    {
     "name": "stdout",
     "output_type": "stream",
     "text": [
      "29\n",
      "1.58\n",
      "58\n",
      "1.8\n",
      "78\n",
      "1.7\n",
      "70\n",
      "1.8\n",
      "80\n",
      "1.76\n",
      "77\n",
      "1.73\n",
      "74\n",
      "1.63\n",
      "61\n",
      "1.65\n",
      "65\n",
      "1.56\n",
      "55\n",
      "1.79\n",
      "76\n",
      "1.56\n",
      "54\n",
      "1.51\n",
      "53\n",
      "1.69\n",
      "69\n",
      "1.67\n",
      "67\n",
      "1.74\n",
      "72\n",
      "1.6\n",
      "58\n",
      "1.52\n",
      "53\n",
      "1.57\n",
      "55\n",
      "1.57\n",
      "57\n",
      "1.67\n",
      "66\n",
      "1.64\n",
      "65\n",
      "1.5\n",
      "50\n",
      "1.64\n",
      "63\n",
      "1.56\n",
      "58\n",
      "1.56\n",
      "55\n",
      "1.62\n",
      "63\n",
      "1.71\n",
      "73\n",
      "1.83\n",
      "80\n",
      "1.76\n",
      "76\n"
     ]
    }
   ],
   "source": [
    "Coluna_Alturas = dados['Alturas'].values\n",
    "Coluna_Pesos = dados['Pesos'].values\n",
    "\n",
    "n = len(Coluna_Alturas)\n",
    "print(n)\n",
    "\n",
    "for i in range(n):\n",
    "    print(Coluna_Alturas[i])\n",
    "    print(Coluna_Pesos[i])"
   ]
  },
  {
   "cell_type": "markdown",
   "id": "02fba815-c5dd-4f3f-b079-d44365791298",
   "metadata": {},
   "source": [
    "# Atividade\n",
    "\n",
    "1) Construa uma função que calcule o desvio padrão utilizando o loop **For** apresentado na célula acima.\n",
    "   \n",
    "2) Construa a função utilizando Lista dos Simbolos/Fórmulas Matemáticos para Markdown.\n",
    "\n",
    "Código .ipynb deve ser enviado ao email - marcelo.euzebio.batista@gmail.com até dia 9/9/2023 às 23:59\n",
    "\n",
    "Atenção >>>> em caso de código repetido ou com nível de semelhança acima de 90%, todos os códigos envolvidos receberão nota ZERO.\n",
    "\n",
    "Mãos a obra meu programador!"
   ]
  },
  {
   "cell_type": "code",
   "execution_count": null,
   "id": "930d558a-7144-4dd4-a26e-a549152bd2e8",
   "metadata": {},
   "outputs": [],
   "source": []
  }
 ],
 "metadata": {
  "kernelspec": {
   "display_name": "Python 3 (ipykernel)",
   "language": "python",
   "name": "python3"
  },
  "language_info": {
   "codemirror_mode": {
    "name": "ipython",
    "version": 3
   },
   "file_extension": ".py",
   "mimetype": "text/x-python",
   "name": "python",
   "nbconvert_exporter": "python",
   "pygments_lexer": "ipython3",
   "version": "3.11.5"
  },
  "toc-autonumbering": false
 },
 "nbformat": 4,
 "nbformat_minor": 5
}
