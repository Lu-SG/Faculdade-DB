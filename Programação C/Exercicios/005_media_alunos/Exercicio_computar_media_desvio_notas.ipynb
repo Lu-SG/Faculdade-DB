{
 "cells": [
  {
   "cell_type": "markdown",
   "id": "ddf80747-a478-4290-a485-d8d019f60d5a",
   "metadata": {},
   "source": [
    "# Exercício - Cálculo da média e desvio padrão\n",
    "\n",
    "Utilizando o arquivo alunos.csv\n",
    "\n",
    "- Computar a média e desvio padrão dos alunos.\n",
    "\n",
    "- Criar uma nova coluna com a média de cada aluno\n",
    "\n",
    "- Criar um nova coluna informando se o aluno foi reprovado ou aprovado, sabendo que a média para aprovação é 6.0\n",
    "\n",
    "- Criar um novo arquivo chamado alunos_media.xlsx\n",
    "\n",
    "- informar dentro do arquivo o desvio padrão da média.\n",
    "\n",
    "Código .ipynb deve ser enviado ao email - marcelo.euzebio.batista@gmail.com até dia 16/9/2023 às 23:59\n",
    "\n",
    "Atenção >>>> em caso de código repetido ou com nível de semelhança acima de 90%, todos os códigos envolvidos receberão nota ZERO.\n",
    "\n",
    "Mãos a obra meu programador!"
   ]
  }
 ],
 "metadata": {
  "kernelspec": {
   "display_name": "Python 3 (ipykernel)",
   "language": "python",
   "name": "python3"
  },
  "language_info": {
   "codemirror_mode": {
    "name": "ipython",
    "version": 3
   },
   "file_extension": ".py",
   "mimetype": "text/x-python",
   "name": "python",
   "nbconvert_exporter": "python",
   "pygments_lexer": "ipython3",
   "version": "3.11.4"
  }
 },
 "nbformat": 4,
 "nbformat_minor": 5
}
