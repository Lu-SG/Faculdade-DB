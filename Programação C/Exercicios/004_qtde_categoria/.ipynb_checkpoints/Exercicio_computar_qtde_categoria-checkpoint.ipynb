{
 "cells": [
  {
   "cell_type": "markdown",
   "id": "40e0ede1-ec28-4748-90e7-d0a296f53728",
   "metadata": {},
   "source": [
    "# Exercício\n",
    "\n",
    "Utilizando o arquivo alunos_categoria.xlsx gerado nas atividades anteriores.\n",
    "\n",
    "Computar as quantidades totais em cada categoria, conforme as classificações relacionada abaixo:\n",
    "\n",
    "- Abaixo de 18,5: Abaixo do peso\n",
    "- 18,5 a 24,9: Peso saudável\n",
    "- 25,0 a 29,9: Sobrepeso\n",
    "- 30,0 a 34,9: Obesidade grau I\n",
    "- 35,0 a 39,9: Obesidade grau II\n",
    "- 40,0 ou mais: Obesidade grau III (obesidade mórbida)\n",
    "\n",
    "Criar tb um novo arquivo chamado totais_categorias.xlsx\n",
    "\n",
    "Código .ipynb deve ser enviado ao email - marcelo.euzebio.batista@gmail.com até dia 16/9/2023 às 23:59\n",
    "\n",
    "Atenção >>>> em caso de código repetido ou com nível de semelhança acima de 90%, todos os códigos envolvidos receberão nota ZERO.\n",
    "\n",
    "Mãos a obra meu programador!"
   ]
  }
 ],
 "metadata": {
  "kernelspec": {
   "display_name": "Python 3 (ipykernel)",
   "language": "python",
   "name": "python3"
  },
  "language_info": {
   "codemirror_mode": {
    "name": "ipython",
    "version": 3
   },
   "file_extension": ".py",
   "mimetype": "text/x-python",
   "name": "python",
   "nbconvert_exporter": "python",
   "pygments_lexer": "ipython3",
   "version": "3.11.4"
  }
 },
 "nbformat": 4,
 "nbformat_minor": 5
}
